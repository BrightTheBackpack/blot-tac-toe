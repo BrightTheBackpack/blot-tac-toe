{
  "cells": [
    {
      "cell_type": "code",
      "execution_count": 18,
      "metadata": {
        "id": "UXYaQsW0YJf7"
      },
      "outputs": [],
      "source": [
        "# app.py\n",
        "import tensorflow as tf\n",
        "from flask import Flask, request, jsonify\n",
        "import cv2\n",
        "import numpy as np\n",
        "from PIL import Image\n",
        "import io\n",
        "from google.colab.patches import cv2_imshow\n",
        "\n",
        "\n",
        "\n",
        "\n",
        "def make_edges_white(image, w,center):\n",
        "    # Convert the image to grayscale if it's not already\n",
        "    if len(image.shape) == 3:\n",
        "        gray = cv2.cvtColor(image, cv2.COLOR_BGR2GRAY)\n",
        "    else:\n",
        "        gray = image\n",
        "    offset_height = (image.shape[1] / 2) - center[1]\n",
        "    offset_width = (image.shape[0]/2) - center[0]\n",
        "    #offset_width = image.shape[1] / 2\n",
        "\n",
        "    # Create a binary mask where the edges will be white\n",
        "    mask = np.zeros_like(gray)\n",
        "\n",
        "    # Define the edge width in pixels\n",
        "    edge_width = w\n",
        "    print(str(edge_width) + \" \" + str(edge_width-offset_height))\n",
        "    # Set the edge region of the mask to white\n",
        "    mask[0:int(edge_width-(2*offset_width)), :] = 255 #try swittching them?\n",
        "    mask[int(-edge_width+offset_width):, :] = 255\n",
        "    mask[:, 0:int(edge_width-offset_height)] = 255\n",
        "    mask[:, int(-edge_width+offset_height):] = 255\n",
        "\n",
        "    # Combine the mask with the grayscale image\n",
        "    # The mask will be applied to the grayscale image to make the edges white\n",
        "    result = gray.copy()\n",
        "    result[mask == 255] = 255\n",
        "    #cv2_imshow(result)\n",
        "    return result\n",
        "\n",
        "\n",
        "def img(image):\n",
        "\n",
        "    # image_file = \"/My photo - Date (1).jpg\"\n",
        "    # image = Image.open(image_file).convert('RGB')\n",
        "    # image = np.array(image)\n",
        "    # Convert to grayscale\n",
        "    gray = cv2.cvtColor(image, cv2.COLOR_BGR2GRAY)\n",
        "    # Edge detection\n",
        "    thres, gray = cv2.threshold(gray, 25, 255,cv2.THRESH_BINARY)\n",
        "    cv2_imshow(gray)\n",
        "    edges = cv2.Canny(gray, 25, 100, apertureSize=3)\n",
        "\n",
        "    # Find contours\n",
        "    contours, _ = cv2.findContours(edges, cv2.RETR_TREE, cv2.CHAIN_APPROX_SIMPLE)\n",
        "\n",
        "    # Assume the largest square contour is the Tic-Tac-Toe board\n",
        "    contours = sorted(contours, key=cv2.contourArea, reverse=True)\n",
        "    board_contour = None\n",
        "    cv2.drawContours(image, contours, -1, (0, 255, 0), 2)\n",
        "    #cv2.imwrite('contour_image.jpg', image)  # Save contour image\n",
        "    # cv2_imshow(image)\n",
        "    thres, image = cv2.threshold(cv2.cvtColor(image,cv2.COLOR_BGR2GRAY), 25, 255,cv2.THRESH_BINARY)\n",
        "    # cv2_imshow(image)\n",
        "\n",
        "    for contour in contours:\n",
        "        epsilon = 0.1 * cv2.arcLength(contour, True)\n",
        "        approx = cv2.approxPolyDP(contour, epsilon, True)\n",
        "        if len(approx) == 4:\n",
        "            board_contour = approx\n",
        "            break\n",
        "\n",
        "    if board_contour is None:\n",
        "        return 'No Tic-Tac-Toe board found', 400\n",
        "    board_contour_img = image.copy()\n",
        "    cv2.drawContours(board_contour_img, contours, -1, (0, 255, 0), 2)\n",
        "    #cv2.imwrite('board_contour_image.jpg', board_contour_img)  # Save contour image\n",
        "    cv2_imshow( board_contour_img)\n",
        "    # Warp perspective to get a top-down view of the board\n",
        "    pts = np.float32([point[0] for point in board_contour])\n",
        "    side = max(np.linalg.norm(pts[0] - pts[1]), np.linalg.norm(pts[1] - pts[2]),\n",
        "               np.linalg.norm(pts[2] - pts[3]), np.linalg.norm(pts[3] - pts[0]))\n",
        "\n",
        "    dst = np.float32([[0, side - 1],[0, 0], [side - 1, 0],[side - 1, side - 1] ])\n",
        "\n",
        "    matrix = cv2.getPerspectiveTransform(pts, dst)\n",
        "    board = cv2.warpPerspective(gray, matrix, (int(side), int(side)))\n",
        "    board = cv2.flip(board, 1)\n",
        "\n",
        "    cv2_imshow( board)  # Save warped board image\n",
        "\n",
        "    # Divide the board into 9 cells\n",
        "    step = board.shape[0] // 3\n",
        "    cells = []\n",
        "    for i in range(3):\n",
        "        for j in range(3):\n",
        "            cell = board[i * step:(i + 1) * step, j * step:(j + 1) * step]\n",
        "\n",
        "\n",
        "\n",
        "\n",
        "            cells.append(cell)\n",
        "\n",
        "    # Placeholder for recognizing Xs and Os\n",
        "    board_state = []\n",
        "    # for cell in cells:\n",
        "    #     edgess = cv2.Canny(cell, 50, 150, apertureSize=3)\n",
        "\n",
        "    #     contours, _ = cv2.findContours(edgess, cv2.RETR_EXTERNAL, cv2.CHAIN_APPROX_SIMPLE)\n",
        "        #cell = cv2.drawContours(cell, contours, -1, (0, 255, 0), 2)\n",
        "    # edgess = cv2.Canny(cells[0], 50,150, apertureSize=3)\n",
        "    # contours, _ = cv2.findContours(edgess, cv2.RETR_EXTERNAL, cv2.CHAIN_APPROX_SIMPLE)\n",
        "    #cells[0] = cv2.drawContours(cells[0], contours, -1, (0, 255, 0), 2)\n",
        "    num = 5\n",
        "    for cell in cells:\n",
        "      center = [cell.shape[0]/2,cell.shape[1]/2]\n",
        "\n",
        "\n",
        "      cell = make_edges_white(cell,20, center)\n",
        "\n",
        "      threshold, black_pixels = cv2.threshold(cell, 100, 255,cv2.THRESH_BINARY)\n",
        "\n",
        "\n",
        "      edges = cv2.Canny(black_pixels, 60, 150, apertureSize=3)\n",
        "      contours, _ = cv2.findContours(edges, cv2.RETR_TREE, cv2.CHAIN_APPROX_SIMPLE)\n",
        "      if len(contours) > 0:\n",
        "          x, y, w, h = cv2.boundingRect(contours[len(contours)-1])\n",
        "          # cv2.drawContours(black_pixels, contours, -1, (0, 255, 0), 2)\n",
        "          print(str(x) + str(y) + str(w) + str(h))\n",
        "          #cv2.rectangle(black_pixels, (x, y), (x + w, y + h), (0, 255, 0), 2)\n",
        "          print(center)\n",
        "          center = [x+w/2,y+h/2]\n",
        "          print(center)\n",
        "          rgb = cv2.cvtColor(black_pixels, cv2.COLOR_GRAY2BGR)\n",
        "          pil_compatible = cv2.cvtColor(rgb, cv2.COLOR_BGR2RGB)\n",
        "\n",
        "          pil_image = Image.fromarray(pil_compatible)\n",
        "          pil_image.show()\n",
        "          result = ai(pil_image )\n",
        "          print(result+ \"result\")\n",
        "          if(\"Circle\" in result):\n",
        "            board_state.append(\"O\")\n",
        "          elif( \"X\" in result):\n",
        "            board_state.append(\"X\")\n",
        "          else:\n",
        "            board_state.append(\"blank\")\n",
        "\n",
        "          cv2.drawContours(cell, contours, -1, (255, 255, 255), 2)\n",
        "          #cv2.circle(black_pixels, (int(center[0]), int(center[1])), 10, (0, 0, 255), -1)\n",
        "          cv2_imshow(cell)\n",
        "      cv2_imshow(black_pixels)\n",
        "\n",
        "\n",
        "\n",
        "      pixel_count = cv2.countNonZero(black_pixels)\n",
        "      black_pixels = make_edges_white(black_pixels,40,center)\n",
        "      pixel_count_2 = cv2.countNonZero(black_pixels)\n",
        "\n",
        "\n",
        "\n",
        "      if(pixel_count >= cell.size * 0.999999999):\n",
        "        board_state.append(\"empty\")\n",
        "\n",
        "\n",
        "      # print(str(black_pixels) + \" \" +  str(cells[0].size))\n",
        "      # image = cv2.resize(black_pixels, (224, 224), interpolation=cv2.INTER_AREA)\n",
        "      # image = np.asarray(image, dtype=np.float32).reshape(1, 224, 224, 3)\n",
        "      # image = (image / 127.5) - 1\n",
        "      # prediction = model.predict(image)\n",
        "      # index = np.argmax(prediction)\n",
        "      # class_name = class_names[index]\n",
        "      # confidence_score = prediction[0][index]\n",
        "\n",
        "      # # Print prediction and confidence score\n",
        "      # print(\"Class:\", class_name[2:], end=\"\")\n",
        "      # print(\"Confidence Score:\", str(np.round(confidence_score * 100))[:-2], \"%\")\n",
        "\n",
        "\n",
        "\n",
        "\n",
        "\n",
        "    # Respond with the board state\n",
        "\n",
        "    # return board_state\n",
        "    _, buffer = cv2.imencode('.png', board)  # Use '.jpg' for JPEG\n",
        "\n",
        "    #Step 3: Convert the buffer to a base64 string\n",
        "    base64_string = base64.b64encode(buffer).decode('utf-8')\n",
        "    data_uri = f\"data:image/png;base64,{base64_string}\"\n",
        "\n",
        "    return [board_state, data_uri]\n",
        "# img()\n",
        "\n",
        "\n"
      ]
    },
    {
      "cell_type": "code",
      "source": [
        "!pip install flask_cors"
      ],
      "metadata": {
        "colab": {
          "base_uri": "https://localhost:8080/"
        },
        "id": "o3FU3cE7uDTK",
        "outputId": "e1a26e4e-6c56-4e80-96e5-588472974fb9"
      },
      "execution_count": 7,
      "outputs": [
        {
          "output_type": "stream",
          "name": "stdout",
          "text": [
            "Collecting flask_cors\n",
            "  Downloading Flask_Cors-4.0.1-py2.py3-none-any.whl.metadata (5.5 kB)\n",
            "Requirement already satisfied: Flask>=0.9 in /usr/local/lib/python3.10/dist-packages (from flask_cors) (2.2.5)\n",
            "Requirement already satisfied: Werkzeug>=2.2.2 in /usr/local/lib/python3.10/dist-packages (from Flask>=0.9->flask_cors) (3.0.3)\n",
            "Requirement already satisfied: Jinja2>=3.0 in /usr/local/lib/python3.10/dist-packages (from Flask>=0.9->flask_cors) (3.1.4)\n",
            "Requirement already satisfied: itsdangerous>=2.0 in /usr/local/lib/python3.10/dist-packages (from Flask>=0.9->flask_cors) (2.2.0)\n",
            "Requirement already satisfied: click>=8.0 in /usr/local/lib/python3.10/dist-packages (from Flask>=0.9->flask_cors) (8.1.7)\n",
            "Requirement already satisfied: MarkupSafe>=2.0 in /usr/local/lib/python3.10/dist-packages (from Jinja2>=3.0->Flask>=0.9->flask_cors) (2.1.5)\n",
            "Downloading Flask_Cors-4.0.1-py2.py3-none-any.whl (14 kB)\n",
            "Installing collected packages: flask_cors\n",
            "Successfully installed flask_cors-4.0.1\n"
          ]
        }
      ]
    },
    {
      "cell_type": "code",
      "execution_count": null,
      "metadata": {
        "colab": {
          "base_uri": "https://localhost:8080/",
          "height": 1000
        },
        "id": "zdPZaMEPC3YW",
        "outputId": "73f054fb-c93a-45ce-d9e2-1f9fdf62860f"
      },
      "outputs": [
        {
          "output_type": "stream",
          "name": "stdout",
          "text": [
            "https://0214-34-173-112-219.ngrok-free.app\n",
            " * Serving Flask app '__main__'\n",
            " * Debug mode: off\n"
          ]
        },
        {
          "output_type": "stream",
          "name": "stderr",
          "text": [
            "INFO:werkzeug:\u001b[31m\u001b[1mWARNING: This is a development server. Do not use it in a production deployment. Use a production WSGI server instead.\u001b[0m\n",
            " * Running on http://127.0.0.1:4000\n",
            "INFO:werkzeug:\u001b[33mPress CTRL+C to quit\u001b[0m\n",
            "INFO:werkzeug:127.0.0.1 - - [24/Aug/2024 07:09:40] \"OPTIONS / HTTP/1.1\" 200 -\n",
            "<ipython-input-3-e3cc088acb46>:5: DeprecationWarning: The binary mode of fromstring is deprecated, as it behaves surprisingly on unicode inputs. Use frombuffer instead\n",
            "  nparr = np.fromstring(base64.b64decode(encoded_data),np.uint8)\n"
          ]
        },
        {
          "output_type": "display_data",
          "data": {
            "text/plain": [
              "<PIL.Image.Image image mode=L size=300x150>"
            ],
            "image/png": "[encoded data removed]"
          },
          "metadata": {}
        },
        {
          "output_type": "display_data",
          "data": {
            "text/plain": [
              "<PIL.Image.Image image mode=L size=300x150>"
            ],
            "image/png": "[encoded data removed]"
          },
          "metadata": {}
        },
        {
          "output_type": "display_data",
          "data": {
            "text/plain": [
              "<PIL.Image.Image image mode=L size=2x2>"
            ],
            "image/png": "[encoded data removed]"
          },
          "metadata": {}
        },
        {
          "output_type": "stream",
          "name": "stderr",
          "text": [
            "INFO:werkzeug:127.0.0.1 - - [24/Aug/2024 07:09:40] \"POST / HTTP/1.1\" 200 -\n"
          ]
        },
        {
          "output_type": "stream",
          "name": "stdout",
          "text": [
            "20 20.0\n",
            "error: 'NoneType' object has no attribute 'clip'\n"
          ]
        },
        {
          "output_type": "display_data",
          "data": {
            "text/plain": [
              "<PIL.Image.Image image mode=L size=300x150>"
            ],
            "image/png": "[encoded data removed]"
          },
          "metadata": {}
        },
        {
          "output_type": "display_data",
          "data": {
            "text/plain": [
              "<PIL.Image.Image image mode=L size=300x150>"
            ],
            "image/png": "[encoded data removed]"
          },
          "metadata": {}
        },
        {
          "output_type": "display_data",
          "data": {
            "text/plain": [
              "<PIL.Image.Image image mode=L size=132x132>"
            ],
            "image/png": "[encoded data removed]"
          },
          "metadata": {}
        },
        {
          "output_type": "stream",
          "name": "stdout",
          "text": [
            "20 20.0\n",
            "191955\n",
            "[22.0, 22.0]\n",
            "[21.5, 21.5]\n",
            "1/1 [==============================] - 0s 48ms/step\n",
            "Class: 0 Circle, Confidence Score: 0.9993103742599487\n",
            "0 Circleresult\n"
          ]
        },
        {
          "output_type": "display_data",
          "data": {
            "text/plain": [
              "<PIL.Image.Image image mode=L size=44x44>"
            ],
            "image/png": "[encoded data removed]"
          },
          "metadata": {}
        },
        {
          "output_type": "display_data",
          "data": {
            "text/plain": [
              "<PIL.Image.Image image mode=L size=44x44>"
            ],
            "image/png": "[encoded data removed]"
          },
          "metadata": {}
        },
        {
          "output_type": "stream",
          "name": "stdout",
          "text": [
            "40 39.5\n",
            "20 20.0\n",
            "191955\n",
            "[22.0, 22.0]\n",
            "[21.5, 21.5]\n",
            "1/1 [==============================] - 0s 44ms/step\n",
            "Class: 0 Circle, Confidence Score: 0.9995561242103577\n",
            "0 Circleresult\n"
          ]
        },
        {
          "output_type": "display_data",
          "data": {
            "text/plain": [
              "<PIL.Image.Image image mode=L size=44x44>"
            ],
            "image/png": "[encoded data removed]"
          },
          "metadata": {}
        },
        {
          "output_type": "display_data",
          "data": {
            "text/plain": [
              "<PIL.Image.Image image mode=L size=44x44>"
            ],
            "image/png": "[encoded data removed]"
          },
          "metadata": {}
        },
        {
          "output_type": "stream",
          "name": "stdout",
          "text": [
            "40 39.5\n",
            "20 20.0\n",
            "191955\n",
            "[22.0, 22.0]\n",
            "[21.5, 21.5]\n",
            "1/1 [==============================] - 0s 62ms/step\n",
            "Class: 0 Circle, Confidence Score: 0.9995561242103577\n",
            "0 Circleresult\n"
          ]
        },
        {
          "output_type": "display_data",
          "data": {
            "text/plain": [
              "<PIL.Image.Image image mode=L size=44x44>"
            ],
            "image/png": "[encoded data removed]"
          },
          "metadata": {}
        },
        {
          "output_type": "display_data",
          "data": {
            "text/plain": [
              "<PIL.Image.Image image mode=L size=44x44>"
            ],
            "image/png": "[encoded data removed]"
          },
          "metadata": {}
        },
        {
          "output_type": "stream",
          "name": "stdout",
          "text": [
            "40 39.5\n",
            "20 20.0\n"
          ]
        },
        {
          "output_type": "display_data",
          "data": {
            "text/plain": [
              "<PIL.Image.Image image mode=L size=44x44>"
            ],
            "image/png": "[encoded data removed]"
          },
          "metadata": {}
        },
        {
          "output_type": "stream",
          "name": "stdout",
          "text": [
            "40 40.0\n",
            "20 20.0\n",
            "191955\n",
            "[22.0, 22.0]\n",
            "[21.5, 21.5]\n",
            "1/1 [==============================] - 0s 58ms/step\n",
            "Class: 0 Circle, Confidence Score: 0.9995561242103577\n",
            "0 Circleresult\n"
          ]
        },
        {
          "output_type": "display_data",
          "data": {
            "text/plain": [
              "<PIL.Image.Image image mode=L size=44x44>"
            ],
            "image/png": "[encoded data removed]"
          },
          "metadata": {}
        },
        {
          "output_type": "display_data",
          "data": {
            "text/plain": [
              "<PIL.Image.Image image mode=L size=44x44>"
            ],
            "image/png": "[encoded data removed]"
          },
          "metadata": {}
        },
        {
          "output_type": "stream",
          "name": "stdout",
          "text": [
            "40 39.5\n",
            "20 20.0\n"
          ]
        },
        {
          "output_type": "display_data",
          "data": {
            "text/plain": [
              "<PIL.Image.Image image mode=L size=44x44>"
            ],
            "image/png": "[encoded data removed]"
          },
          "metadata": {}
        },
        {
          "output_type": "stream",
          "name": "stdout",
          "text": [
            "40 40.0\n",
            "20 20.0\n",
            "192054\n",
            "[22.0, 22.0]\n",
            "[21.5, 22.0]\n",
            "1/1 [==============================] - 0s 48ms/step\n",
            "Class: 0 Circle, Confidence Score: 0.9995342493057251\n",
            "0 Circleresult\n"
          ]
        },
        {
          "output_type": "display_data",
          "data": {
            "text/plain": [
              "<PIL.Image.Image image mode=L size=44x44>"
            ],
            "image/png": "[encoded data removed]"
          },
          "metadata": {}
        },
        {
          "output_type": "display_data",
          "data": {
            "text/plain": [
              "<PIL.Image.Image image mode=L size=44x44>"
            ],
            "image/png": "[encoded data removed]"
          },
          "metadata": {}
        },
        {
          "output_type": "stream",
          "name": "stdout",
          "text": [
            "40 40.0\n",
            "20 20.0\n",
            "191955\n",
            "[22.0, 22.0]\n",
            "[21.5, 21.5]\n",
            "1/1 [==============================] - 0s 40ms/step\n",
            "Class: 0 Circle, Confidence Score: 0.9995561242103577\n",
            "0 Circleresult\n"
          ]
        },
        {
          "output_type": "display_data",
          "data": {
            "text/plain": [
              "<PIL.Image.Image image mode=L size=44x44>"
            ],
            "image/png": "[encoded data removed]"
          },
          "metadata": {}
        },
        {
          "output_type": "display_data",
          "data": {
            "text/plain": [
              "<PIL.Image.Image image mode=L size=44x44>"
            ],
            "image/png": "[encoded data removed]"
          },
          "metadata": {}
        },
        {
          "output_type": "stream",
          "name": "stdout",
          "text": [
            "40 39.5\n",
            "20 20.0\n",
            "191955\n",
            "[22.0, 22.0]\n",
            "[21.5, 21.5]\n",
            "1/1 [==============================] - 0s 45ms/step\n",
            "Class: 0 Circle, Confidence Score: 0.9995561242103577\n",
            "0 Circleresult\n"
          ]
        },
        {
          "output_type": "display_data",
          "data": {
            "text/plain": [
              "<PIL.Image.Image image mode=L size=44x44>"
            ],
            "image/png": "[encoded data removed]"
          },
          "metadata": {}
        },
        {
          "output_type": "display_data",
          "data": {
            "text/plain": [
              "<PIL.Image.Image image mode=L size=44x44>"
            ],
            "image/png": "[encoded data removed]"
          },
          "metadata": {}
        },
        {
          "output_type": "stream",
          "name": "stderr",
          "text": [
            "INFO:werkzeug:127.0.0.1 - - [24/Aug/2024 07:09:42] \"POST / HTTP/1.1\" 200 -\n"
          ]
        },
        {
          "output_type": "stream",
          "name": "stdout",
          "text": [
            "40 39.5\n",
            "[['O', 'O', 'O', 'empty', 'O', 'empty', 'O', 'O', 'O'], 'data:image/png;base64,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']\n"
          ]
        },
        {
          "output_type": "stream",
          "name": "stderr",
          "text": [
            "<ipython-input-3-e3cc088acb46>:5: DeprecationWarning: The binary mode of fromstring is deprecated, as it behaves surprisingly on unicode inputs. Use frombuffer instead\n",
            "  nparr = np.fromstring(base64.b64decode(encoded_data),np.uint8)\n"
          ]
        },
        {
          "output_type": "display_data",
          "data": {
            "text/plain": [
              "<PIL.Image.Image image mode=L size=300x150>"
            ],
            "image/png": "[encoded data removed]"
          },
          "metadata": {}
        },
        {
          "output_type": "display_data",
          "data": {
            "text/plain": [
              "<PIL.Image.Image image mode=L size=300x150>"
            ],
            "image/png": "[encoded data removed]"
          },
          "metadata": {}
        },
        {
          "output_type": "display_data",
          "data": {
            "text/plain": [
              "<PIL.Image.Image image mode=L size=192x192>"
            ],
            "image/png": "[encoded data removed]"
          },
          "metadata": {}
        },
        {
          "output_type": "stream",
          "name": "stdout",
          "text": [
            "20 20.0\n",
            "19192525\n",
            "[32.0, 32.0]\n",
            "[31.5, 31.5]\n",
            "1/1 [==============================] - 0s 50ms/step\n",
            "Class: 0 Circle, Confidence Score: 0.9980983138084412\n",
            "0 Circleresult\n"
          ]
        },
        {
          "output_type": "display_data",
          "data": {
            "text/plain": [
              "<PIL.Image.Image image mode=L size=64x64>"
            ],
            "image/png": "[encoded data removed]"
          },
          "metadata": {}
        },
        {
          "output_type": "display_data",
          "data": {
            "text/plain": [
              "<PIL.Image.Image image mode=L size=64x64>"
            ],
            "image/png": "[encoded data removed]"
          },
          "metadata": {}
        },
        {
          "output_type": "stream",
          "name": "stdout",
          "text": [
            "40 39.5\n",
            "20 20.0\n",
            "19192525\n",
            "[32.0, 32.0]\n",
            "[31.5, 31.5]\n",
            "1/1 [==============================] - 0s 46ms/step\n",
            "Class: 0 Circle, Confidence Score: 0.9950494170188904\n",
            "0 Circleresult\n"
          ]
        },
        {
          "output_type": "display_data",
          "data": {
            "text/plain": [
              "<PIL.Image.Image image mode=L size=64x64>"
            ],
            "image/png": "[encoded data removed]"
          },
          "metadata": {}
        },
        {
          "output_type": "display_data",
          "data": {
            "text/plain": [
              "<PIL.Image.Image image mode=L size=64x64>"
            ],
            "image/png": "[encoded data removed]"
          },
          "metadata": {}
        },
        {
          "output_type": "stream",
          "name": "stdout",
          "text": [
            "40 39.5\n",
            "20 20.0\n",
            "1937248\n",
            "[32.0, 32.0]\n",
            "[31.0, 41.0]\n",
            "1/1 [==============================] - 0s 69ms/step\n",
            "Class: 0 Circle, Confidence Score: 0.5763409733772278\n",
            "0 Circleresult\n"
          ]
        },
        {
          "output_type": "display_data",
          "data": {
            "text/plain": [
              "<PIL.Image.Image image mode=L size=64x64>"
            ],
            "image/png": "[encoded data removed]"
          },
          "metadata": {}
        },
        {
          "output_type": "display_data",
          "data": {
            "text/plain": [
              "<PIL.Image.Image image mode=L size=64x64>"
            ],
            "image/png": "[encoded data removed]"
          },
          "metadata": {}
        },
        {
          "output_type": "stream",
          "name": "stdout",
          "text": [
            "40 49.0\n",
            "20 20.0\n",
            "19192525\n",
            "[32.0, 32.0]\n",
            "[31.5, 31.5]\n",
            "1/1 [==============================] - 0s 68ms/step\n",
            "Class: 0 Circle, Confidence Score: 0.9933345317840576\n",
            "0 Circleresult\n"
          ]
        },
        {
          "output_type": "display_data",
          "data": {
            "text/plain": [
              "<PIL.Image.Image image mode=L size=64x64>"
            ],
            "image/png": "[encoded data removed]"
          },
          "metadata": {}
        },
        {
          "output_type": "display_data",
          "data": {
            "text/plain": [
              "<PIL.Image.Image image mode=L size=64x64>"
            ],
            "image/png": "[encoded data removed]"
          },
          "metadata": {}
        },
        {
          "output_type": "stream",
          "name": "stdout",
          "text": [
            "40 39.5\n",
            "20 20.0\n",
            "19192525\n",
            "[32.0, 32.0]\n",
            "[31.5, 31.5]\n",
            "1/1 [==============================] - 0s 86ms/step\n",
            "Class: 0 Circle, Confidence Score: 0.9933345317840576\n",
            "0 Circleresult\n"
          ]
        },
        {
          "output_type": "display_data",
          "data": {
            "text/plain": [
              "<PIL.Image.Image image mode=L size=64x64>"
            ],
            "image/png": "[encoded data removed]"
          },
          "metadata": {}
        },
        {
          "output_type": "display_data",
          "data": {
            "text/plain": [
              "<PIL.Image.Image image mode=L size=64x64>"
            ],
            "image/png": "[encoded data removed]"
          },
          "metadata": {}
        },
        {
          "output_type": "stream",
          "name": "stdout",
          "text": [
            "40 39.5\n",
            "20 20.0\n",
            "19192525\n",
            "[32.0, 32.0]\n",
            "[31.5, 31.5]\n",
            "1/1 [==============================] - 0s 89ms/step\n",
            "Class: 0 Circle, Confidence Score: 0.9959151148796082\n",
            "0 Circleresult\n"
          ]
        },
        {
          "output_type": "display_data",
          "data": {
            "text/plain": [
              "<PIL.Image.Image image mode=L size=64x64>"
            ],
            "image/png": "[encoded data removed]"
          },
          "metadata": {}
        },
        {
          "output_type": "display_data",
          "data": {
            "text/plain": [
              "<PIL.Image.Image image mode=L size=64x64>"
            ],
            "image/png": "[encoded data removed]"
          },
          "metadata": {}
        },
        {
          "output_type": "stream",
          "name": "stdout",
          "text": [
            "40 39.5\n",
            "20 20.0\n",
            "19192525\n",
            "[32.0, 32.0]\n",
            "[31.5, 31.5]\n",
            "1/1 [==============================] - 0s 75ms/step\n",
            "Class: 0 Circle, Confidence Score: 0.9933345317840576\n",
            "0 Circleresult\n"
          ]
        },
        {
          "output_type": "display_data",
          "data": {
            "text/plain": [
              "<PIL.Image.Image image mode=L size=64x64>"
            ],
            "image/png": "[encoded data removed]"
          },
          "metadata": {}
        },
        {
          "output_type": "display_data",
          "data": {
            "text/plain": [
              "<PIL.Image.Image image mode=L size=64x64>"
            ],
            "image/png": "[encoded data removed]"
          },
          "metadata": {}
        },
        {
          "output_type": "stream",
          "name": "stdout",
          "text": [
            "40 39.5\n",
            "20 20.0\n",
            "19192525\n",
            "[32.0, 32.0]\n",
            "[31.5, 31.5]\n",
            "1/1 [==============================] - 0s 61ms/step\n",
            "Class: 0 Circle, Confidence Score: 0.9933345317840576\n",
            "0 Circleresult\n"
          ]
        },
        {
          "output_type": "display_data",
          "data": {
            "text/plain": [
              "<PIL.Image.Image image mode=L size=64x64>"
            ],
            "image/png": "[encoded data removed]"
          },
          "metadata": {}
        },
        {
          "output_type": "display_data",
          "data": {
            "text/plain": [
              "<PIL.Image.Image image mode=L size=64x64>"
            ],
            "image/png": "[encoded data removed]"
          },
          "metadata": {}
        },
        {
          "output_type": "stream",
          "name": "stdout",
          "text": [
            "40 39.5\n",
            "20 20.0\n",
            "19192525\n",
            "[32.0, 32.0]\n",
            "[31.5, 31.5]\n",
            "1/1 [==============================] - 0s 89ms/step\n",
            "Class: 0 Circle, Confidence Score: 0.9933345317840576\n",
            "0 Circleresult\n"
          ]
        },
        {
          "output_type": "display_data",
          "data": {
            "text/plain": [
              "<PIL.Image.Image image mode=L size=64x64>"
            ],
            "image/png": "[encoded data removed]"
          },
          "metadata": {}
        },
        {
          "output_type": "display_data",
          "data": {
            "text/plain": [
              "<PIL.Image.Image image mode=L size=64x64>"
            ],
            "image/png": "[encoded data removed]"
          },
          "metadata": {}
        },
        {
          "output_type": "stream",
          "name": "stderr",
          "text": [
            "INFO:werkzeug:127.0.0.1 - - [24/Aug/2024 07:09:44] \"POST / HTTP/1.1\" 200 -\n"
          ]
        },
        {
          "output_type": "stream",
          "name": "stdout",
          "text": [
            "40 39.5\n",
            "[['O', 'O', 'O', 'O', 'O', 'O', 'O', 'O', 'O'], 'data:image/png;base64,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']\n"
          ]
        },
        {
          "output_type": "stream",
          "name": "stderr",
          "text": [
            "<ipython-input-3-e3cc088acb46>:5: DeprecationWarning: The binary mode of fromstring is deprecated, as it behaves surprisingly on unicode inputs. Use frombuffer instead\n",
            "  nparr = np.fromstring(base64.b64decode(encoded_data),np.uint8)\n"
          ]
        },
        {
          "output_type": "display_data",
          "data": {
            "text/plain": [
              "<PIL.Image.Image image mode=L size=300x150>"
            ],
            "image/png": "[encoded data removed]"
          },
          "metadata": {}
        },
        {
          "output_type": "display_data",
          "data": {
            "text/plain": [
              "<PIL.Image.Image image mode=L size=300x150>"
            ],
            "image/png": "[encoded data removed]"
          },
          "metadata": {}
        },
        {
          "output_type": "display_data",
          "data": {
            "text/plain": [
              "<PIL.Image.Image image mode=L size=128x128>"
            ],
            "image/png": "[encoded data removed]"
          },
          "metadata": {}
        },
        {
          "output_type": "stream",
          "name": "stdout",
          "text": [
            "20 20.0\n"
          ]
        },
        {
          "output_type": "display_data",
          "data": {
            "text/plain": [
              "<PIL.Image.Image image mode=L size=42x42>"
            ],
            "image/png": "[encoded data removed]"
          },
          "metadata": {}
        },
        {
          "output_type": "stream",
          "name": "stdout",
          "text": [
            "40 40.0\n",
            "20 20.0\n"
          ]
        },
        {
          "output_type": "display_data",
          "data": {
            "text/plain": [
              "<PIL.Image.Image image mode=L size=42x42>"
            ],
            "image/png": "[encoded data removed]"
          },
          "metadata": {}
        },
        {
          "output_type": "stream",
          "name": "stdout",
          "text": [
            "40 40.0\n",
            "20 20.0\n"
          ]
        },
        {
          "output_type": "display_data",
          "data": {
            "text/plain": [
              "<PIL.Image.Image image mode=L size=42x42>"
            ],
            "image/png": "[encoded data removed]"
          },
          "metadata": {}
        },
        {
          "output_type": "stream",
          "name": "stdout",
          "text": [
            "40 40.0\n",
            "20 20.0\n"
          ]
        },
        {
          "output_type": "display_data",
          "data": {
            "text/plain": [
              "<PIL.Image.Image image mode=L size=42x42>"
            ],
            "image/png": "[encoded data removed]"
          },
          "metadata": {}
        },
        {
          "output_type": "stream",
          "name": "stdout",
          "text": [
            "40 40.0\n",
            "20 20.0\n"
          ]
        },
        {
          "output_type": "display_data",
          "data": {
            "text/plain": [
              "<PIL.Image.Image image mode=L size=42x42>"
            ],
            "image/png": "[encoded data removed]"
          },
          "metadata": {}
        },
        {
          "output_type": "stream",
          "name": "stdout",
          "text": [
            "40 40.0\n",
            "20 20.0\n"
          ]
        },
        {
          "output_type": "display_data",
          "data": {
            "text/plain": [
              "<PIL.Image.Image image mode=L size=42x42>"
            ],
            "image/png": "[encoded data removed]"
          },
          "metadata": {}
        },
        {
          "output_type": "stream",
          "name": "stdout",
          "text": [
            "40 40.0\n",
            "20 20.0\n"
          ]
        },
        {
          "output_type": "display_data",
          "data": {
            "text/plain": [
              "<PIL.Image.Image image mode=L size=42x42>"
            ],
            "image/png": "[encoded data removed]"
          },
          "metadata": {}
        },
        {
          "output_type": "stream",
          "name": "stdout",
          "text": [
            "40 40.0\n",
            "20 20.0\n"
          ]
        },
        {
          "output_type": "display_data",
          "data": {
            "text/plain": [
              "<PIL.Image.Image image mode=L size=42x42>"
            ],
            "image/png": "[encoded data removed]"
          },
          "metadata": {}
        },
        {
          "output_type": "stream",
          "name": "stdout",
          "text": [
            "40 40.0\n",
            "20 20.0\n"
          ]
        },
        {
          "output_type": "display_data",
          "data": {
            "text/plain": [
              "<PIL.Image.Image image mode=L size=42x42>"
            ],
            "image/png": "[encoded data removed]"
          },
          "metadata": {}
        },
        {
          "output_type": "stream",
          "name": "stderr",
          "text": [
            "INFO:werkzeug:127.0.0.1 - - [24/Aug/2024 07:09:45] \"POST / HTTP/1.1\" 200 -\n"
          ]
        },
        {
          "output_type": "stream",
          "name": "stdout",
          "text": [
            "40 40.0\n",
            "[[], 'data:image/png;base64,iVBORw0KGgoAAAANSUhEUgAAAIAAAACACAAAAADmVT4XAAAAxElEQVR4AcXBAQEAAABAIP6fNkPJTGYyk5nMZCYzmclMZjKTmcxkJjOZyUxmMpOZzGQmM5nJTGYyk5nMZCYzmclMZjKTmcxkJjOZyUxmMpOZzGQmM5nJTGYyk5nMZCYzmclMZjKTmcxkJjOZyUxmMpOZzGQmM5nJTGYyk5nMZCYzmclMZjKTmcxkJjOZyUxmMpOZzGQmM5nJTGYyk5nMZCYzmclMZjKTmcxkJjOZyUxmMpOZzGQmM5nJTGYyk5nMZCYzmQWBsACBwJDQJQAAAABJRU5ErkJggg==']\n"
          ]
        },
        {
          "output_type": "stream",
          "name": "stderr",
          "text": [
            "INFO:werkzeug:127.0.0.1 - - [24/Aug/2024 07:09:45] \"OPTIONS / HTTP/1.1\" 200 -\n"
          ]
        },
        {
          "output_type": "display_data",
          "data": {
            "text/plain": [
              "<PIL.Image.Image image mode=L size=300x150>"
            ],
            "image/png": "[encoded data removed]"
          },
          "metadata": {}
        },
        {
          "output_type": "display_data",
          "data": {
            "text/plain": [
              "<PIL.Image.Image image mode=L size=300x150>"
            ],
            "image/png": "[encoded data removed]"
          },
          "metadata": {}
        },
        {
          "output_type": "display_data",
          "data": {
            "text/plain": [
              "<PIL.Image.Image image mode=L size=128x128>"
            ],
            "image/png": "[encoded data removed]"
          },
          "metadata": {}
        },
        {
          "output_type": "stream",
          "name": "stdout",
          "text": [
            "20 20.0\n"
          ]
        },
        {
          "output_type": "display_data",
          "data": {
            "text/plain": [
              "<PIL.Image.Image image mode=L size=42x42>"
            ],
            "image/png": "[encoded data removed]"
          },
          "metadata": {}
        },
        {
          "output_type": "stream",
          "name": "stdout",
          "text": [
            "40 40.0\n",
            "20 20.0\n"
          ]
        },
        {
          "output_type": "display_data",
          "data": {
            "text/plain": [
              "<PIL.Image.Image image mode=L size=42x42>"
            ],
            "image/png": "[encoded data removed]"
          },
          "metadata": {}
        },
        {
          "output_type": "stream",
          "name": "stdout",
          "text": [
            "40 40.0\n",
            "20 20.0\n"
          ]
        },
        {
          "output_type": "display_data",
          "data": {
            "text/plain": [
              "<PIL.Image.Image image mode=L size=42x42>"
            ],
            "image/png": "[encoded data removed]"
          },
          "metadata": {}
        },
        {
          "output_type": "stream",
          "name": "stdout",
          "text": [
            "40 40.0\n",
            "20 20.0\n"
          ]
        },
        {
          "output_type": "display_data",
          "data": {
            "text/plain": [
              "<PIL.Image.Image image mode=L size=42x42>"
            ],
            "image/png": "[encoded data removed]"
          },
          "metadata": {}
        },
        {
          "output_type": "stream",
          "name": "stdout",
          "text": [
            "40 40.0\n",
            "20 20.0\n"
          ]
        },
        {
          "output_type": "display_data",
          "data": {
            "text/plain": [
              "<PIL.Image.Image image mode=L size=42x42>"
            ],
            "image/png": "[encoded data removed]"
          },
          "metadata": {}
        },
        {
          "output_type": "stream",
          "name": "stdout",
          "text": [
            "40 40.0\n",
            "20 20.0\n"
          ]
        },
        {
          "output_type": "display_data",
          "data": {
            "text/plain": [
              "<PIL.Image.Image image mode=L size=42x42>"
            ],
            "image/png": "[encoded data removed]"
          },
          "metadata": {}
        },
        {
          "output_type": "stream",
          "name": "stdout",
          "text": [
            "40 40.0\n",
            "20 20.0\n"
          ]
        },
        {
          "output_type": "display_data",
          "data": {
            "text/plain": [
              "<PIL.Image.Image image mode=L size=42x42>"
            ],
            "image/png": "[encoded data removed]"
          },
          "metadata": {}
        },
        {
          "output_type": "stream",
          "name": "stdout",
          "text": [
            "40 40.0\n",
            "20 20.0\n"
          ]
        },
        {
          "output_type": "display_data",
          "data": {
            "text/plain": [
              "<PIL.Image.Image image mode=L size=42x42>"
            ],
            "image/png": "[encoded data removed]"
          },
          "metadata": {}
        },
        {
          "output_type": "stream",
          "name": "stdout",
          "text": [
            "40 40.0\n",
            "20 20.0\n"
          ]
        },
        {
          "output_type": "display_data",
          "data": {
            "text/plain": [
              "<PIL.Image.Image image mode=L size=42x42>"
            ],
            "image/png": "[encoded data removed]"
          },
          "metadata": {}
        },
        {
          "output_type": "stream",
          "name": "stderr",
          "text": [
            "INFO:werkzeug:127.0.0.1 - - [24/Aug/2024 07:09:45] \"POST / HTTP/1.1\" 200 -\n"
          ]
        },
        {
          "output_type": "stream",
          "name": "stdout",
          "text": [
            "40 40.0\n",
            "[[], 'data:image/png;base64,iVBORw0KGgoAAAANSUhEUgAAAIAAAACACAAAAADmVT4XAAAAxElEQVR4AcXBAQEAAABAIP6fNkPJTGYyk5nMZCYzmclMZjKTmcxkJjOZyUxmMpOZzGQmM5nJTGYyk5nMZCYzmclMZjKTmcxkJjOZyUxmMpOZzGQmM5nJTGYyk5nMZCYzmclMZjKTmcxkJjOZyUxmMpOZzGQmM5nJTGYyk5nMZCYzmclMZjKTmcxkJjOZyUxmMpOZzGQmM5nJTGYyk5nMZCYzmclMZjKTmcxkJjOZyUxmMpOZzGQmM5nJTGYyk5nMZCYzmQWBsACBwJDQJQAAAABJRU5ErkJggg==']\n"
          ]
        },
        {
          "output_type": "display_data",
          "data": {
            "text/plain": [
              "<PIL.Image.Image image mode=L size=300x150>"
            ],
            "image/png": "[encoded data removed]"
          },
          "metadata": {}
        },
        {
          "output_type": "display_data",
          "data": {
            "text/plain": [
              "<PIL.Image.Image image mode=L size=300x150>"
            ],
            "image/png": "[encoded data removed]"
          },
          "metadata": {}
        },
        {
          "output_type": "display_data",
          "data": {
            "text/plain": [
              "<PIL.Image.Image image mode=L size=23x23>"
            ],
            "image/png": "[encoded data removed]"
          },
          "metadata": {}
        },
        {
          "output_type": "stream",
          "name": "stdout",
          "text": [
            "20 20.0\n"
          ]
        },
        {
          "output_type": "display_data",
          "data": {
            "text/plain": [
              "<PIL.Image.Image image mode=L size=7x7>"
            ],
            "image/png": "[encoded data removed]"
          },
          "metadata": {}
        },
        {
          "output_type": "stream",
          "name": "stdout",
          "text": [
            "40 40.0\n",
            "20 20.0\n"
          ]
        },
        {
          "output_type": "display_data",
          "data": {
            "text/plain": [
              "<PIL.Image.Image image mode=L size=7x7>"
            ],
            "image/png": "[encoded data removed]"
          },
          "metadata": {}
        },
        {
          "output_type": "stream",
          "name": "stdout",
          "text": [
            "40 40.0\n",
            "20 20.0\n"
          ]
        },
        {
          "output_type": "display_data",
          "data": {
            "text/plain": [
              "<PIL.Image.Image image mode=L size=7x7>"
            ],
            "image/png": "[encoded data removed]"
          },
          "metadata": {}
        },
        {
          "output_type": "stream",
          "name": "stdout",
          "text": [
            "40 40.0\n",
            "20 20.0\n"
          ]
        },
        {
          "output_type": "display_data",
          "data": {
            "text/plain": [
              "<PIL.Image.Image image mode=L size=7x7>"
            ],
            "image/png": "[encoded data removed]"
          },
          "metadata": {}
        },
        {
          "output_type": "stream",
          "name": "stdout",
          "text": [
            "40 40.0\n",
            "20 20.0\n"
          ]
        },
        {
          "output_type": "display_data",
          "data": {
            "text/plain": [
              "<PIL.Image.Image image mode=L size=7x7>"
            ],
            "image/png": "[encoded data removed]"
          },
          "metadata": {}
        },
        {
          "output_type": "stream",
          "name": "stdout",
          "text": [
            "40 40.0\n",
            "20 20.0\n"
          ]
        },
        {
          "output_type": "display_data",
          "data": {
            "text/plain": [
              "<PIL.Image.Image image mode=L size=7x7>"
            ],
            "image/png": "[encoded data removed]"
          },
          "metadata": {}
        },
        {
          "output_type": "stream",
          "name": "stdout",
          "text": [
            "40 40.0\n",
            "20 20.0\n"
          ]
        },
        {
          "output_type": "display_data",
          "data": {
            "text/plain": [
              "<PIL.Image.Image image mode=L size=7x7>"
            ],
            "image/png": "[encoded data removed]"
          },
          "metadata": {}
        },
        {
          "output_type": "stream",
          "name": "stdout",
          "text": [
            "40 40.0\n",
            "20 20.0\n"
          ]
        },
        {
          "output_type": "display_data",
          "data": {
            "text/plain": [
              "<PIL.Image.Image image mode=L size=7x7>"
            ],
            "image/png": "[encoded data removed]"
          },
          "metadata": {}
        },
        {
          "output_type": "stream",
          "name": "stdout",
          "text": [
            "40 40.0\n",
            "20 20.0\n"
          ]
        },
        {
          "output_type": "display_data",
          "data": {
            "text/plain": [
              "<PIL.Image.Image image mode=L size=7x7>"
            ],
            "image/png": "[encoded data removed]"
          },
          "metadata": {}
        },
        {
          "output_type": "stream",
          "name": "stderr",
          "text": [
            "INFO:werkzeug:127.0.0.1 - - [24/Aug/2024 07:09:46] \"POST / HTTP/1.1\" 200 -\n"
          ]
        },
        {
          "output_type": "stream",
          "name": "stdout",
          "text": [
            "40 40.0\n",
            "[['empty', 'empty', 'empty', 'empty', 'empty', 'empty', 'empty', 'empty', 'empty'], 'data:image/png;base64,iVBORw0KGgoAAAANSUhEUgAAABcAAAAXCAAAAADFQYt8AAABYUlEQVQoFU3BvWqUQRiG4fsRhU8wMCCug02m27cIZLp8nYtNYiEGQbARFo9AK7HLCUhipVZiZWNnY+cRKCEoSbqJIEzhz6wkmk2RcTfZzXpd+nv12yVAUPmPtr/eHbDxfFdQmdGH9OXl741nC+9EZUZv0u6nrfUnTx9chMoZre+lzUR43DNBZUprKW26RP8VCCoTepjSTui9uPbRg6hMqJ/TTmxv95dfg6BySvdSzjEurz66cQsQlRNayQmL11ebrY7n5nuojKmXc2O2tOIpDhBURtTm7MyWegGKA0RlRDHnEGyxjUBxgKiALB/6YIuxZaQ4QFRQKIchhG7bMlYcICoKufEhdGN0jBUHoiJfmuBD16LnRHEgqhY+e+9D1yxwqjgQur9XzgU/b2ZMFAfS2vejwfm5eTNjqjjQ21/7R4fHTTBrmCrujrb3fx4MhxfmrpjjTPaqgx9/DobHutzpMKN/yI99VutSfrIAAAAASUVORK5CYII=']\n"
          ]
        },
        {
          "output_type": "display_data",
          "data": {
            "text/plain": [
              "<PIL.Image.Image image mode=L size=300x150>"
            ],
            "image/png": "[encoded data removed]"
          },
          "metadata": {}
        },
        {
          "output_type": "display_data",
          "data": {
            "text/plain": [
              "<PIL.Image.Image image mode=L size=300x150>"
            ],
            "image/png": "[encoded data removed]"
          },
          "metadata": {}
        },
        {
          "output_type": "display_data",
          "data": {
            "text/plain": [
              "<PIL.Image.Image image mode=L size=24x24>"
            ],
            "image/png": "[encoded data removed]"
          },
          "metadata": {}
        },
        {
          "output_type": "stream",
          "name": "stdout",
          "text": [
            "20 20.0\n"
          ]
        },
        {
          "output_type": "display_data",
          "data": {
            "text/plain": [
              "<PIL.Image.Image image mode=L size=8x8>"
            ],
            "image/png": "[encoded data removed]"
          },
          "metadata": {}
        },
        {
          "output_type": "stream",
          "name": "stdout",
          "text": [
            "40 40.0\n",
            "20 20.0\n"
          ]
        },
        {
          "output_type": "display_data",
          "data": {
            "text/plain": [
              "<PIL.Image.Image image mode=L size=8x8>"
            ],
            "image/png": "[encoded data removed]"
          },
          "metadata": {}
        },
        {
          "output_type": "stream",
          "name": "stdout",
          "text": [
            "40 40.0\n",
            "20 20.0\n"
          ]
        },
        {
          "output_type": "display_data",
          "data": {
            "text/plain": [
              "<PIL.Image.Image image mode=L size=8x8>"
            ],
            "image/png": "[encoded data removed]"
          },
          "metadata": {}
        },
        {
          "output_type": "stream",
          "name": "stdout",
          "text": [
            "40 40.0\n",
            "20 20.0\n"
          ]
        },
        {
          "output_type": "display_data",
          "data": {
            "text/plain": [
              "<PIL.Image.Image image mode=L size=8x8>"
            ],
            "image/png": "[encoded data removed]"
          },
          "metadata": {}
        },
        {
          "output_type": "stream",
          "name": "stdout",
          "text": [
            "40 40.0\n",
            "20 20.0\n"
          ]
        },
        {
          "output_type": "display_data",
          "data": {
            "text/plain": [
              "<PIL.Image.Image image mode=L size=8x8>"
            ],
            "image/png": "[encoded data removed]"
          },
          "metadata": {}
        },
        {
          "output_type": "stream",
          "name": "stdout",
          "text": [
            "40 40.0\n",
            "20 20.0\n"
          ]
        },
        {
          "output_type": "display_data",
          "data": {
            "text/plain": [
              "<PIL.Image.Image image mode=L size=8x8>"
            ],
            "image/png": "[encoded data removed]"
          },
          "metadata": {}
        },
        {
          "output_type": "stream",
          "name": "stdout",
          "text": [
            "40 40.0\n",
            "20 20.0\n"
          ]
        },
        {
          "output_type": "display_data",
          "data": {
            "text/plain": [
              "<PIL.Image.Image image mode=L size=8x8>"
            ],
            "image/png": "[encoded data removed]"
          },
          "metadata": {}
        },
        {
          "output_type": "stream",
          "name": "stdout",
          "text": [
            "40 40.0\n",
            "20 20.0\n"
          ]
        },
        {
          "output_type": "display_data",
          "data": {
            "text/plain": [
              "<PIL.Image.Image image mode=L size=8x8>"
            ],
            "image/png": "[encoded data removed]"
          },
          "metadata": {}
        },
        {
          "output_type": "stream",
          "name": "stdout",
          "text": [
            "40 40.0\n",
            "20 20.0\n"
          ]
        },
        {
          "output_type": "display_data",
          "data": {
            "text/plain": [
              "<PIL.Image.Image image mode=L size=8x8>"
            ],
            "image/png": "[encoded data removed]"
          },
          "metadata": {}
        },
        {
          "output_type": "stream",
          "name": "stderr",
          "text": [
            "INFO:werkzeug:127.0.0.1 - - [24/Aug/2024 07:09:47] \"POST / HTTP/1.1\" 200 -\n"
          ]
        },
        {
          "output_type": "stream",
          "name": "stdout",
          "text": [
            "40 40.0\n",
            "[['empty', 'empty', 'empty', 'empty', 'empty', 'empty', 'empty', 'empty', 'empty'], 'data:image/png;base64,iVBORw0KGgoAAAANSUhEUgAAABgAAAAYCAAAAADFHGIkAAABd0lEQVQoFV3BP2gTcRzG4c+7aBFbila5qnChRSqCFDoFUcwgmEX8s5jNCllcREQFJ1fBoVMXF0fpVHBWFBxEQRGpcOLFuyTF/Jo0sa2RCkq+5nIJ0T6Pvo8LYyj+EJRj55yMew+MoXdhGFYb9Y4Wbl57LGOgFYalcq31uy2yz/aajL5aFFeaq9tbvwTE8y+PVEmtu4qrrzV/tkWXIaNvw218/tpY/yEShoyB4FNQ/7YpEq+zyEhVwlIUNVoCMls37iOMRMdFpS/lqCogV/RPgTB62isrpdgJyF8tkJCRckGwJhjJXynQJTD64lgwnrswT0JkIgYEXu5cYYQeGT1/tjuCzOmzl0ZJyGTgPGBVo3vmsifn9tEjMF7tfp87hmYnj8+emB4jJTAuX1zIn9H5memZqcldpGTCnt89/GJCt/2j/qExBmTCrj/ZPKBF3/cmGBLwsfgWPZ3y9vMP0XXrUVtvMgf5j0wsF5uqeewgEw/vyNipsETXX5oHlO5b/z/zAAAAAElFTkSuQmCC']\n"
          ]
        },
        {
          "output_type": "display_data",
          "data": {
            "text/plain": [
              "<PIL.Image.Image image mode=L size=300x150>"
            ],
            "image/png": "[encoded data removed]"
          },
          "metadata": {}
        },
        {
          "output_type": "display_data",
          "data": {
            "text/plain": [
              "<PIL.Image.Image image mode=L size=300x150>"
            ],
            "image/png": "[encoded data removed]"
          },
          "metadata": {}
        },
        {
          "output_type": "display_data",
          "data": {
            "text/plain": [
              "<PIL.Image.Image image mode=L size=31x31>"
            ],
            "image/png": "[encoded data removed]"
          },
          "metadata": {}
        },
        {
          "output_type": "stream",
          "name": "stdout",
          "text": [
            "20 20.0\n"
          ]
        },
        {
          "output_type": "display_data",
          "data": {
            "text/plain": [
              "<PIL.Image.Image image mode=L size=10x10>"
            ],
            "image/png": "[encoded data removed]"
          },
          "metadata": {}
        },
        {
          "output_type": "stream",
          "name": "stdout",
          "text": [
            "40 40.0\n",
            "20 20.0\n"
          ]
        },
        {
          "output_type": "display_data",
          "data": {
            "text/plain": [
              "<PIL.Image.Image image mode=L size=10x10>"
            ],
            "image/png": "[encoded data removed]"
          },
          "metadata": {}
        },
        {
          "output_type": "stream",
          "name": "stdout",
          "text": [
            "40 40.0\n",
            "20 20.0\n"
          ]
        },
        {
          "output_type": "display_data",
          "data": {
            "text/plain": [
              "<PIL.Image.Image image mode=L size=10x10>"
            ],
            "image/png": "[encoded data removed]"
          },
          "metadata": {}
        },
        {
          "output_type": "stream",
          "name": "stdout",
          "text": [
            "40 40.0\n",
            "20 20.0\n"
          ]
        },
        {
          "output_type": "display_data",
          "data": {
            "text/plain": [
              "<PIL.Image.Image image mode=L size=10x10>"
            ],
            "image/png": "[encoded data removed]"
          },
          "metadata": {}
        },
        {
          "output_type": "stream",
          "name": "stdout",
          "text": [
            "40 40.0\n",
            "20 20.0\n"
          ]
        },
        {
          "output_type": "display_data",
          "data": {
            "text/plain": [
              "<PIL.Image.Image image mode=L size=10x10>"
            ],
            "image/png": "[encoded data removed]"
          },
          "metadata": {}
        },
        {
          "output_type": "stream",
          "name": "stdout",
          "text": [
            "40 40.0\n",
            "20 20.0\n"
          ]
        },
        {
          "output_type": "display_data",
          "data": {
            "text/plain": [
              "<PIL.Image.Image image mode=L size=10x10>"
            ],
            "image/png": "[encoded data removed]"
          },
          "metadata": {}
        },
        {
          "output_type": "stream",
          "name": "stdout",
          "text": [
            "40 40.0\n",
            "20 20.0\n"
          ]
        },
        {
          "output_type": "display_data",
          "data": {
            "text/plain": [
              "<PIL.Image.Image image mode=L size=10x10>"
            ],
            "image/png": "[encoded data removed]"
          },
          "metadata": {}
        },
        {
          "output_type": "stream",
          "name": "stdout",
          "text": [
            "40 40.0\n",
            "20 20.0\n"
          ]
        },
        {
          "output_type": "display_data",
          "data": {
            "text/plain": [
              "<PIL.Image.Image image mode=L size=10x10>"
            ],
            "image/png": "[encoded data removed]"
          },
          "metadata": {}
        },
        {
          "output_type": "stream",
          "name": "stdout",
          "text": [
            "40 40.0\n",
            "20 20.0\n"
          ]
        },
        {
          "output_type": "display_data",
          "data": {
            "text/plain": [
              "<PIL.Image.Image image mode=L size=10x10>"
            ],
            "image/png": "[encoded data removed]"
          },
          "metadata": {}
        },
        {
          "output_type": "stream",
          "name": "stderr",
          "text": [
            "INFO:werkzeug:127.0.0.1 - - [24/Aug/2024 07:09:48] \"POST / HTTP/1.1\" 200 -\n"
          ]
        },
        {
          "output_type": "stream",
          "name": "stdout",
          "text": [
            "40 40.0\n",
            "[['empty', 'empty', 'empty', 'empty', 'empty', 'empty', 'empty', 'empty', 'empty'], 'data:image/png;base64,iVBORw0KGgoAAAANSUhEUgAAAB8AAAAfCAAAAAA6xUnlAAACXklEQVQoFWXBzW9UVRjA4d/rvfec936eOzPtzDAGW0gwsio73KH/QeOKLSbsXBj/AUN04wKNMdHEEMKuwYVNWLNhB4mJsOJ2I5cVpxjtQFCGxvYwH60t+jwy3Pnw3Ircur3L1Mn+8gnn3JI6VedQVeHJV2ur9S/f/8rUymA0HLq6zp1aVbWKBAkThS+vPQP67wz6fTelzqpVCxKQAOx8fZsJ5Wjp7XK5zCtb2SlAAkgAHm78Pp4ky4NuN+0VpjClNUxJ4MCje/7ZpFtWhdNOnBeJYUYCMw/WgLYdv8rSNDNOkyxhTgJzpx4xNf7z77cia4xNlAUJzAmb68y82CWKE8MBCSzcuERgbi9IxCEJHBIC/yOBfwlXP+M/JHBE+OZT3iSBYwR9yRuk0ShOYxszJxA4Tu5gjGZZpcwJPC85Ij9N0jTVujtkQSBwRL4j0qQuhqOKBYGNixySL16p0cp1Tp4GmnAWBC7/yAH5hMhFebc3Wl3CN835zioCFzdYkMuTKM/zKl85dcb7trn3w7f6uXBh7WrMjKzvFUlSVcVoNNr3fuv+b1cujYOweXODGfnAxMZq3RmUw573W83d0+/e4GmfwD8xIO/vm1I17rkTde+Ff9zcby9sea5/TPijB8i5YKzUeVF3nSn847ZpWHsg4aOfCexFyHvBolnZyYulxD7fbpsGOjsw2CYAshqspFWZdpIql2i7bZsJ6UvmNteRYVCpTFlnaWp0b+zbdgxml4UgNWorU+TWRSaKJ963nmNEsc6URZYlUR7tsuNbzzGC2srmSZYl1kTs/+V9y5H6NWbesBQIx3BEAAAAAElFTkSuQmCC']\n"
          ]
        },
        {
          "output_type": "display_data",
          "data": {
            "text/plain": [
              "<PIL.Image.Image image mode=L size=300x150>"
            ],
            "image/png": "[encoded data removed]"
          },
          "metadata": {}
        },
        {
          "output_type": "display_data",
          "data": {
            "text/plain": [
              "<PIL.Image.Image image mode=L size=300x150>"
            ],
            "image/png": "[encoded data removed]"
          },
          "metadata": {}
        },
        {
          "output_type": "display_data",
          "data": {
            "text/plain": [
              "<PIL.Image.Image image mode=L size=32x32>"
            ],
            "image/png": "[encoded data removed]"
          },
          "metadata": {}
        },
        {
          "output_type": "stream",
          "name": "stdout",
          "text": [
            "20 20.0\n"
          ]
        },
        {
          "output_type": "display_data",
          "data": {
            "text/plain": [
              "<PIL.Image.Image image mode=L size=10x10>"
            ],
            "image/png": "[encoded data removed]"
          },
          "metadata": {}
        },
        {
          "output_type": "stream",
          "name": "stdout",
          "text": [
            "40 40.0\n",
            "20 20.0\n"
          ]
        },
        {
          "output_type": "display_data",
          "data": {
            "text/plain": [
              "<PIL.Image.Image image mode=L size=10x10>"
            ],
            "image/png": "[encoded data removed]"
          },
          "metadata": {}
        },
        {
          "output_type": "stream",
          "name": "stdout",
          "text": [
            "40 40.0\n",
            "20 20.0\n"
          ]
        },
        {
          "output_type": "display_data",
          "data": {
            "text/plain": [
              "<PIL.Image.Image image mode=L size=10x10>"
            ],
            "image/png": "[encoded data removed]"
          },
          "metadata": {}
        },
        {
          "output_type": "stream",
          "name": "stdout",
          "text": [
            "40 40.0\n",
            "20 20.0\n"
          ]
        },
        {
          "output_type": "display_data",
          "data": {
            "text/plain": [
              "<PIL.Image.Image image mode=L size=10x10>"
            ],
            "image/png": "[encoded data removed]"
          },
          "metadata": {}
        },
        {
          "output_type": "stream",
          "name": "stdout",
          "text": [
            "40 40.0\n",
            "20 20.0\n"
          ]
        },
        {
          "output_type": "display_data",
          "data": {
            "text/plain": [
              "<PIL.Image.Image image mode=L size=10x10>"
            ],
            "image/png": "[encoded data removed]"
          },
          "metadata": {}
        },
        {
          "output_type": "stream",
          "name": "stdout",
          "text": [
            "40 40.0\n",
            "20 20.0\n"
          ]
        },
        {
          "output_type": "display_data",
          "data": {
            "text/plain": [
              "<PIL.Image.Image image mode=L size=10x10>"
            ],
            "image/png": "[encoded data removed]"
          },
          "metadata": {}
        },
        {
          "output_type": "stream",
          "name": "stdout",
          "text": [
            "40 40.0\n",
            "20 20.0\n"
          ]
        },
        {
          "output_type": "display_data",
          "data": {
            "text/plain": [
              "<PIL.Image.Image image mode=L size=10x10>"
            ],
            "image/png": "[encoded data removed]"
          },
          "metadata": {}
        },
        {
          "output_type": "stream",
          "name": "stdout",
          "text": [
            "40 40.0\n",
            "20 20.0\n"
          ]
        },
        {
          "output_type": "display_data",
          "data": {
            "text/plain": [
              "<PIL.Image.Image image mode=L size=10x10>"
            ],
            "image/png": "[encoded data removed]"
          },
          "metadata": {}
        },
        {
          "output_type": "stream",
          "name": "stdout",
          "text": [
            "40 40.0\n",
            "20 20.0\n"
          ]
        },
        {
          "output_type": "display_data",
          "data": {
            "text/plain": [
              "<PIL.Image.Image image mode=L size=10x10>"
            ],
            "image/png": "[encoded data removed]"
          },
          "metadata": {}
        },
        {
          "output_type": "stream",
          "name": "stderr",
          "text": [
            "INFO:werkzeug:127.0.0.1 - - [24/Aug/2024 07:09:49] \"POST / HTTP/1.1\" 200 -\n"
          ]
        },
        {
          "output_type": "stream",
          "name": "stdout",
          "text": [
            "40 40.0\n",
            "[['empty', 'empty', 'empty', 'empty', 'empty', 'empty', 'empty', 'empty', 'empty'], 'data:image/png;base64,iVBORw0KGgoAAAANSUhEUgAAACAAAAAgCAAAAABWESUoAAACfElEQVQ4EWXBz2scZRjA8e+TnXnfd+adX5vt7k5WYoOiBqTEg6DHSi89Bo+eRBAURBGEnov/gFCPHnIqKEiPpShFEKEFwdaDrNDC5PbWtLKK6EaafZzdTeJaPx8Bzm/X398+oJUP+v3uYN2VZe6craxzTnhnb3f77C83btKyTw83hlV5pnKVc4lz1iEqenmnrr7cu0dr6/nhsKzLtHSlddZZEEUUOLz0Oa3Nzf5go2jZwrYAUQQFfvjsJ6ZsbNRl3svz3ObGGlqiICjw3deT6dSOqm7e9WlmMmOYE6UlV95D790PE9JsPbVlksY+ZkGUOVFak+agYyKfmMS5mCVRFmT3GnOP/pp14k5sLcdEWRKUhaND1qKIE6IcE3avsaTCKVFOyWs3+R9RTgkoTxJlhaA8QZRVwo/n+A/Zn3WiJLKRsCBcv8gq+XYWOZOmPmdJQFkhXzBLsqjbrSOWhMED/iVXwMdV1hv1OCYwE07Ix4fOFC4dDJ8x0Ny/8KiHgHJCPpqmHeez3ujsU4Tmjr579Q2E7U8vsCRvT9PIm56vt86FEMa3X6l+2zkvzw0/fJ0F2T3K4rgostFoNJs0zd1vLt3YfPED4eDq+8zJxVlkbJl0h3ndC2F/fOvXtz6pXv5KUBbk1VlunMv8YL3yj8P+eDx+tn8LVFDm5CU11iX+TOmTrg37zXjMCz8DKigt2VZrJe0n6955+/uDprkDdQBUUEC2DIkUeZV6Z8zjEJrxlM4Rrbs7KEhtkaLIktTnsXQehqaZgPmb1pt7KFJZsUWeuSRxZi36IzTNhBPVhOvinLW5yVJbrMUd1YehCawSSmvz2KdpZM0afx6GJrDqH4+1trvjp6amAAAAAElFTkSuQmCC']\n"
          ]
        },
        {
          "output_type": "display_data",
          "data": {
            "text/plain": [
              "<PIL.Image.Image image mode=L size=300x150>"
            ],
            "image/png": "[encoded data removed]"
          },
          "metadata": {}
        },
        {
          "output_type": "display_data",
          "data": {
            "text/plain": [
              "<PIL.Image.Image image mode=L size=300x150>"
            ],
            "image/png": "[encoded data removed]"
          },
          "metadata": {}
        },
        {
          "output_type": "display_data",
          "data": {
            "text/plain": [
              "<PIL.Image.Image image mode=L size=194x194>"
            ],
            "image/png": "[encoded data removed]"
          },
          "metadata": {}
        },
        {
          "output_type": "stream",
          "name": "stdout",
          "text": [
            "20 20.0\n",
            "19192525\n",
            "[32.0, 32.0]\n",
            "[31.5, 31.5]\n",
            "1/1 [==============================] - 0s 54ms/step\n",
            "Class: 0 Circle, Confidence Score: 0.9933345317840576\n",
            "0 Circleresult\n"
          ]
        },
        {
          "output_type": "display_data",
          "data": {
            "text/plain": [
              "<PIL.Image.Image image mode=L size=64x64>"
            ],
            "image/png": "[encoded data removed]"
          },
          "metadata": {}
        },
        {
          "output_type": "display_data",
          "data": {
            "text/plain": [
              "<PIL.Image.Image image mode=L size=64x64>"
            ],
            "image/png": "[encoded data removed]"
          },
          "metadata": {}
        },
        {
          "output_type": "stream",
          "name": "stdout",
          "text": [
            "40 39.5\n",
            "20 20.0\n",
            "27191725\n",
            "[32.0, 32.0]\n",
            "[35.5, 31.5]\n",
            "1/1 [==============================] - 0s 41ms/step\n",
            "Class: 0 Circle, Confidence Score: 0.9941527247428894\n",
            "0 Circleresult\n"
          ]
        },
        {
          "output_type": "display_data",
          "data": {
            "text/plain": [
              "<PIL.Image.Image image mode=L size=64x64>"
            ],
            "image/png": "[encoded data removed]"
          },
          "metadata": {}
        },
        {
          "output_type": "display_data",
          "data": {
            "text/plain": [
              "<PIL.Image.Image image mode=L size=64x64>"
            ],
            "image/png": "[encoded data removed]"
          },
          "metadata": {}
        },
        {
          "output_type": "stream",
          "name": "stdout",
          "text": [
            "40 39.5\n",
            "20 20.0\n",
            "19332511\n",
            "[32.0, 32.0]\n",
            "[31.5, 38.5]\n",
            "1/1 [==============================] - 0s 54ms/step\n",
            "Class: 1 X, Confidence Score: 0.7336949706077576\n",
            "1 Xresult\n"
          ]
        },
        {
          "output_type": "display_data",
          "data": {
            "text/plain": [
              "<PIL.Image.Image image mode=L size=64x64>"
            ],
            "image/png": "[encoded data removed]"
          },
          "metadata": {}
        },
        {
          "output_type": "display_data",
          "data": {
            "text/plain": [
              "<PIL.Image.Image image mode=L size=64x64>"
            ],
            "image/png": "[encoded data removed]"
          },
          "metadata": {}
        },
        {
          "output_type": "stream",
          "name": "stdout",
          "text": [
            "40 46.5\n",
            "20 20.0\n",
            "19192525\n",
            "[32.0, 32.0]\n",
            "[31.5, 31.5]\n",
            "1/1 [==============================] - 0s 53ms/step\n",
            "Class: 0 Circle, Confidence Score: 0.9933345317840576\n",
            "0 Circleresult\n"
          ]
        },
        {
          "output_type": "display_data",
          "data": {
            "text/plain": [
              "<PIL.Image.Image image mode=L size=64x64>"
            ],
            "image/png": "[encoded data removed]"
          },
          "metadata": {}
        },
        {
          "output_type": "display_data",
          "data": {
            "text/plain": [
              "<PIL.Image.Image image mode=L size=64x64>"
            ],
            "image/png": "[encoded data removed]"
          },
          "metadata": {}
        },
        {
          "output_type": "stream",
          "name": "stdout",
          "text": [
            "40 39.5\n",
            "20 20.0\n",
            "19192525\n",
            "[32.0, 32.0]\n",
            "[31.5, 31.5]\n",
            "1/1 [==============================] - 0s 49ms/step\n",
            "Class: 0 Circle, Confidence Score: 0.9953727126121521\n",
            "0 Circleresult\n"
          ]
        },
        {
          "output_type": "display_data",
          "data": {
            "text/plain": [
              "<PIL.Image.Image image mode=L size=64x64>"
            ],
            "image/png": "[encoded data removed]"
          },
          "metadata": {}
        },
        {
          "output_type": "display_data",
          "data": {
            "text/plain": [
              "<PIL.Image.Image image mode=L size=64x64>"
            ],
            "image/png": "[encoded data removed]"
          },
          "metadata": {}
        },
        {
          "output_type": "stream",
          "name": "stdout",
          "text": [
            "40 39.5\n",
            "20 20.0\n",
            "19192525\n",
            "[32.0, 32.0]\n",
            "[31.5, 31.5]\n",
            "1/1 [==============================] - 0s 48ms/step\n",
            "Class: 0 Circle, Confidence Score: 0.9933345317840576\n",
            "0 Circleresult\n"
          ]
        },
        {
          "output_type": "display_data",
          "data": {
            "text/plain": [
              "<PIL.Image.Image image mode=L size=64x64>"
            ],
            "image/png": "[encoded data removed]"
          },
          "metadata": {}
        },
        {
          "output_type": "display_data",
          "data": {
            "text/plain": [
              "<PIL.Image.Image image mode=L size=64x64>"
            ],
            "image/png": "[encoded data removed]"
          },
          "metadata": {}
        },
        {
          "output_type": "stream",
          "name": "stdout",
          "text": [
            "40 39.5\n",
            "20 20.0\n",
            "19192525\n",
            "[32.0, 32.0]\n",
            "[31.5, 31.5]\n",
            "1/1 [==============================] - 0s 44ms/step\n",
            "Class: 0 Circle, Confidence Score: 0.9933345317840576\n",
            "0 Circleresult\n"
          ]
        },
        {
          "output_type": "display_data",
          "data": {
            "text/plain": [
              "<PIL.Image.Image image mode=L size=64x64>"
            ],
            "image/png": "[encoded data removed]"
          },
          "metadata": {}
        },
        {
          "output_type": "display_data",
          "data": {
            "text/plain": [
              "<PIL.Image.Image image mode=L size=64x64>"
            ],
            "image/png": "[encoded data removed]"
          },
          "metadata": {}
        },
        {
          "output_type": "stream",
          "name": "stdout",
          "text": [
            "40 39.5\n",
            "20 20.0\n",
            "19192525\n",
            "[32.0, 32.0]\n",
            "[31.5, 31.5]\n",
            "1/1 [==============================] - 0s 47ms/step\n",
            "Class: 0 Circle, Confidence Score: 0.9933345317840576\n",
            "0 Circleresult\n"
          ]
        },
        {
          "output_type": "display_data",
          "data": {
            "text/plain": [
              "<PIL.Image.Image image mode=L size=64x64>"
            ],
            "image/png": "[encoded data removed]"
          },
          "metadata": {}
        },
        {
          "output_type": "display_data",
          "data": {
            "text/plain": [
              "<PIL.Image.Image image mode=L size=64x64>"
            ],
            "image/png": "[encoded data removed]"
          },
          "metadata": {}
        },
        {
          "output_type": "stream",
          "name": "stdout",
          "text": [
            "40 39.5\n",
            "20 20.0\n",
            "19192525\n",
            "[32.0, 32.0]\n",
            "[31.5, 31.5]\n",
            "1/1 [==============================] - 0s 58ms/step\n",
            "Class: 0 Circle, Confidence Score: 0.9933345317840576\n",
            "0 Circleresult\n"
          ]
        },
        {
          "output_type": "display_data",
          "data": {
            "text/plain": [
              "<PIL.Image.Image image mode=L size=64x64>"
            ],
            "image/png": "[encoded data removed]"
          },
          "metadata": {}
        },
        {
          "output_type": "display_data",
          "data": {
            "text/plain": [
              "<PIL.Image.Image image mode=L size=64x64>"
            ],
            "image/png": "[encoded data removed]"
          },
          "metadata": {}
        },
        {
          "output_type": "stream",
          "name": "stderr",
          "text": [
            "INFO:werkzeug:127.0.0.1 - - [24/Aug/2024 07:09:51] \"POST / HTTP/1.1\" 200 -\n"
          ]
        },
        {
          "output_type": "stream",
          "name": "stdout",
          "text": [
            "40 39.5\n",
            "[['O', 'O', 'X', 'O', 'O', 'O', 'O', 'O', 'O'], 'data:image/png;base64,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']\n"
          ]
        },
        {
          "output_type": "stream",
          "name": "stderr",
          "text": [
            "INFO:werkzeug:127.0.0.1 - - [24/Aug/2024 07:09:51] \"OPTIONS / HTTP/1.1\" 200 -\n",
            "<ipython-input-3-e3cc088acb46>:5: DeprecationWarning: The binary mode of fromstring is deprecated, as it behaves surprisingly on unicode inputs. Use frombuffer instead\n",
            "  nparr = np.fromstring(base64.b64decode(encoded_data),np.uint8)\n"
          ]
        },
        {
          "output_type": "display_data",
          "data": {
            "text/plain": [
              "<PIL.Image.Image image mode=L size=300x150>"
            ],
            "image/png": "[encoded data removed]"
          },
          "metadata": {}
        },
        {
          "output_type": "display_data",
          "data": {
            "text/plain": [
              "<PIL.Image.Image image mode=L size=300x150>"
            ],
            "image/png": "[encoded data removed]"
          },
          "metadata": {}
        },
        {
          "output_type": "display_data",
          "data": {
            "text/plain": [
              "<PIL.Image.Image image mode=L size=28x28>"
            ],
            "image/png": "[encoded data removed]"
          },
          "metadata": {}
        },
        {
          "output_type": "stream",
          "name": "stdout",
          "text": [
            "20 20.0\n"
          ]
        },
        {
          "output_type": "display_data",
          "data": {
            "text/plain": [
              "<PIL.Image.Image image mode=L size=9x9>"
            ],
            "image/png": "[encoded data removed]"
          },
          "metadata": {}
        },
        {
          "output_type": "stream",
          "name": "stdout",
          "text": [
            "40 40.0\n",
            "20 20.0\n"
          ]
        },
        {
          "output_type": "display_data",
          "data": {
            "text/plain": [
              "<PIL.Image.Image image mode=L size=9x9>"
            ],
            "image/png": "[encoded data removed]"
          },
          "metadata": {}
        },
        {
          "output_type": "stream",
          "name": "stdout",
          "text": [
            "40 40.0\n",
            "20 20.0\n"
          ]
        },
        {
          "output_type": "display_data",
          "data": {
            "text/plain": [
              "<PIL.Image.Image image mode=L size=9x9>"
            ],
            "image/png": "[encoded data removed]"
          },
          "metadata": {}
        },
        {
          "output_type": "stream",
          "name": "stdout",
          "text": [
            "40 40.0\n",
            "20 20.0\n"
          ]
        },
        {
          "output_type": "display_data",
          "data": {
            "text/plain": [
              "<PIL.Image.Image image mode=L size=9x9>"
            ],
            "image/png": "[encoded data removed]"
          },
          "metadata": {}
        },
        {
          "output_type": "stream",
          "name": "stdout",
          "text": [
            "40 40.0\n",
            "20 20.0\n"
          ]
        },
        {
          "output_type": "display_data",
          "data": {
            "text/plain": [
              "<PIL.Image.Image image mode=L size=9x9>"
            ],
            "image/png": "[encoded data removed]"
          },
          "metadata": {}
        },
        {
          "output_type": "stream",
          "name": "stdout",
          "text": [
            "40 40.0\n",
            "20 20.0\n"
          ]
        },
        {
          "output_type": "display_data",
          "data": {
            "text/plain": [
              "<PIL.Image.Image image mode=L size=9x9>"
            ],
            "image/png": "[encoded data removed]"
          },
          "metadata": {}
        },
        {
          "output_type": "stream",
          "name": "stdout",
          "text": [
            "40 40.0\n",
            "20 20.0\n"
          ]
        },
        {
          "output_type": "display_data",
          "data": {
            "text/plain": [
              "<PIL.Image.Image image mode=L size=9x9>"
            ],
            "image/png": "[encoded data removed]"
          },
          "metadata": {}
        },
        {
          "output_type": "stream",
          "name": "stdout",
          "text": [
            "40 40.0\n",
            "20 20.0\n"
          ]
        },
        {
          "output_type": "display_data",
          "data": {
            "text/plain": [
              "<PIL.Image.Image image mode=L size=9x9>"
            ],
            "image/png": "[encoded data removed]"
          },
          "metadata": {}
        },
        {
          "output_type": "stream",
          "name": "stdout",
          "text": [
            "40 40.0\n",
            "20 20.0\n"
          ]
        },
        {
          "output_type": "display_data",
          "data": {
            "text/plain": [
              "<PIL.Image.Image image mode=L size=9x9>"
            ],
            "image/png": "[encoded data removed]"
          },
          "metadata": {}
        },
        {
          "output_type": "stream",
          "name": "stderr",
          "text": [
            "INFO:werkzeug:127.0.0.1 - - [24/Aug/2024 07:09:52] \"POST / HTTP/1.1\" 200 -\n"
          ]
        },
        {
          "output_type": "stream",
          "name": "stdout",
          "text": [
            "40 40.0\n",
            "[['empty', 'empty', 'empty', 'empty', 'empty', 'empty', 'empty', 'empty', 'empty'], 'data:image/png;base64,iVBORw0KGgoAAAANSUhEUgAAABwAAAAcCAAAAABXZoBIAAAAM0lEQVQoFX3BAQEAAABAIP6f9kDJkCFDhgwZMmTIkCFDhgwZMmTIkCFDhgwZMmTIkCFDRjEqAB1OvoS2AAAAAElFTkSuQmCC']\n"
          ]
        },
        {
          "output_type": "display_data",
          "data": {
            "text/plain": [
              "<PIL.Image.Image image mode=L size=300x150>"
            ],
            "image/png": "[encoded data removed]"
          },
          "metadata": {}
        },
        {
          "output_type": "display_data",
          "data": {
            "text/plain": [
              "<PIL.Image.Image image mode=L size=300x150>"
            ],
            "image/png": "[encoded data removed]"
          },
          "metadata": {}
        },
        {
          "output_type": "display_data",
          "data": {
            "text/plain": [
              "<PIL.Image.Image image mode=L size=14x14>"
            ],
            "image/png": "[encoded data removed]"
          },
          "metadata": {}
        },
        {
          "output_type": "stream",
          "name": "stdout",
          "text": [
            "20 20.0\n"
          ]
        },
        {
          "output_type": "display_data",
          "data": {
            "text/plain": [
              "<PIL.Image.Image image mode=L size=4x4>"
            ],
            "image/png": "[encoded data removed]"
          },
          "metadata": {}
        },
        {
          "output_type": "stream",
          "name": "stdout",
          "text": [
            "40 40.0\n",
            "20 20.0\n"
          ]
        },
        {
          "output_type": "display_data",
          "data": {
            "text/plain": [
              "<PIL.Image.Image image mode=L size=4x4>"
            ],
            "image/png": "[encoded data removed]"
          },
          "metadata": {}
        },
        {
          "output_type": "stream",
          "name": "stdout",
          "text": [
            "40 40.0\n",
            "20 20.0\n"
          ]
        },
        {
          "output_type": "display_data",
          "data": {
            "text/plain": [
              "<PIL.Image.Image image mode=L size=4x4>"
            ],
            "image/png": "[encoded data removed]"
          },
          "metadata": {}
        },
        {
          "output_type": "stream",
          "name": "stdout",
          "text": [
            "40 40.0\n",
            "20 20.0\n"
          ]
        },
        {
          "output_type": "display_data",
          "data": {
            "text/plain": [
              "<PIL.Image.Image image mode=L size=4x4>"
            ],
            "image/png": "[encoded data removed]"
          },
          "metadata": {}
        },
        {
          "output_type": "stream",
          "name": "stdout",
          "text": [
            "40 40.0\n",
            "20 20.0\n"
          ]
        },
        {
          "output_type": "display_data",
          "data": {
            "text/plain": [
              "<PIL.Image.Image image mode=L size=4x4>"
            ],
            "image/png": "[encoded data removed]"
          },
          "metadata": {}
        },
        {
          "output_type": "stream",
          "name": "stdout",
          "text": [
            "40 40.0\n",
            "20 20.0\n"
          ]
        },
        {
          "output_type": "display_data",
          "data": {
            "text/plain": [
              "<PIL.Image.Image image mode=L size=4x4>"
            ],
            "image/png": "[encoded data removed]"
          },
          "metadata": {}
        },
        {
          "output_type": "stream",
          "name": "stdout",
          "text": [
            "40 40.0\n",
            "20 20.0\n"
          ]
        },
        {
          "output_type": "display_data",
          "data": {
            "text/plain": [
              "<PIL.Image.Image image mode=L size=4x4>"
            ],
            "image/png": "[encoded data removed]"
          },
          "metadata": {}
        },
        {
          "output_type": "stream",
          "name": "stdout",
          "text": [
            "40 40.0\n",
            "20 20.0\n"
          ]
        },
        {
          "output_type": "display_data",
          "data": {
            "text/plain": [
              "<PIL.Image.Image image mode=L size=4x4>"
            ],
            "image/png": "[encoded data removed]"
          },
          "metadata": {}
        },
        {
          "output_type": "stream",
          "name": "stdout",
          "text": [
            "40 40.0\n",
            "20 20.0\n"
          ]
        },
        {
          "output_type": "display_data",
          "data": {
            "text/plain": [
              "<PIL.Image.Image image mode=L size=4x4>"
            ],
            "image/png": "[encoded data removed]"
          },
          "metadata": {}
        },
        {
          "output_type": "stream",
          "name": "stderr",
          "text": [
            "INFO:werkzeug:127.0.0.1 - - [24/Aug/2024 07:09:52] \"POST / HTTP/1.1\" 200 -\n"
          ]
        },
        {
          "output_type": "stream",
          "name": "stdout",
          "text": [
            "40 40.0\n",
            "[['empty', 'empty', 'empty', 'empty', 'empty', 'empty', 'empty', 'empty', 'empty'], 'data:image/png;base64,iVBORw0KGgoAAAANSUhEUgAAAA4AAAAOCAAAAAA6I3INAAAAU0lEQVQIHU3BsRFEAABE0f2B5BJigeQy2lKEXmRq0YIZXdxcwoxkBQb7Hv6XuqzNB6zXNmElrLBhJayElbASR6GAlVhaBcZegaH/6vGjmjvd9voEcxMUkJbFMZEAAAAASUVORK5CYII=']\n"
          ]
        },
        {
          "output_type": "display_data",
          "data": {
            "text/plain": [
              "<PIL.Image.Image image mode=L size=300x150>"
            ],
            "image/png": "[encoded data removed]"
          },
          "metadata": {}
        },
        {
          "output_type": "display_data",
          "data": {
            "text/plain": [
              "<PIL.Image.Image image mode=L size=300x150>"
            ],
            "image/png": "[encoded data removed]"
          },
          "metadata": {}
        },
        {
          "output_type": "display_data",
          "data": {
            "text/plain": [
              "<PIL.Image.Image image mode=L size=2x2>"
            ],
            "image/png": "[encoded data removed]"
          },
          "metadata": {}
        },
        {
          "output_type": "stream",
          "name": "stderr",
          "text": [
            "INFO:werkzeug:127.0.0.1 - - [24/Aug/2024 07:09:53] \"POST / HTTP/1.1\" 200 -\n"
          ]
        },
        {
          "output_type": "stream",
          "name": "stdout",
          "text": [
            "20 20.0\n",
            "error: 'NoneType' object has no attribute 'clip'\n"
          ]
        },
        {
          "output_type": "display_data",
          "data": {
            "text/plain": [
              "<PIL.Image.Image image mode=L size=300x150>"
            ],
            "image/png": "[encoded data removed]"
          },
          "metadata": {}
        },
        {
          "output_type": "display_data",
          "data": {
            "text/plain": [
              "<PIL.Image.Image image mode=L size=300x150>"
            ],
            "image/png": "[encoded data removed]"
          },
          "metadata": {}
        },
        {
          "output_type": "display_data",
          "data": {
            "text/plain": [
              "<PIL.Image.Image image mode=L size=19x19>"
            ],
            "image/png": "[encoded data removed]"
          },
          "metadata": {}
        },
        {
          "output_type": "stream",
          "name": "stdout",
          "text": [
            "20 20.0\n"
          ]
        },
        {
          "output_type": "display_data",
          "data": {
            "text/plain": [
              "<PIL.Image.Image image mode=L size=6x6>"
            ],
            "image/png": "[encoded data removed]"
          },
          "metadata": {}
        },
        {
          "output_type": "stream",
          "name": "stdout",
          "text": [
            "40 40.0\n",
            "20 20.0\n"
          ]
        },
        {
          "output_type": "display_data",
          "data": {
            "text/plain": [
              "<PIL.Image.Image image mode=L size=6x6>"
            ],
            "image/png": "[encoded data removed]"
          },
          "metadata": {}
        },
        {
          "output_type": "stream",
          "name": "stdout",
          "text": [
            "40 40.0\n",
            "20 20.0\n"
          ]
        },
        {
          "output_type": "display_data",
          "data": {
            "text/plain": [
              "<PIL.Image.Image image mode=L size=6x6>"
            ],
            "image/png": "[encoded data removed]"
          },
          "metadata": {}
        },
        {
          "output_type": "stream",
          "name": "stdout",
          "text": [
            "40 40.0\n",
            "20 20.0\n"
          ]
        },
        {
          "output_type": "display_data",
          "data": {
            "text/plain": [
              "<PIL.Image.Image image mode=L size=6x6>"
            ],
            "image/png": "[encoded data removed]"
          },
          "metadata": {}
        },
        {
          "output_type": "stream",
          "name": "stdout",
          "text": [
            "40 40.0\n",
            "20 20.0\n"
          ]
        },
        {
          "output_type": "display_data",
          "data": {
            "text/plain": [
              "<PIL.Image.Image image mode=L size=6x6>"
            ],
            "image/png": "[encoded data removed]"
          },
          "metadata": {}
        },
        {
          "output_type": "stream",
          "name": "stdout",
          "text": [
            "40 40.0\n",
            "20 20.0\n"
          ]
        },
        {
          "output_type": "display_data",
          "data": {
            "text/plain": [
              "<PIL.Image.Image image mode=L size=6x6>"
            ],
            "image/png": "[encoded data removed]"
          },
          "metadata": {}
        },
        {
          "output_type": "stream",
          "name": "stdout",
          "text": [
            "40 40.0\n",
            "20 20.0\n"
          ]
        },
        {
          "output_type": "display_data",
          "data": {
            "text/plain": [
              "<PIL.Image.Image image mode=L size=6x6>"
            ],
            "image/png": "[encoded data removed]"
          },
          "metadata": {}
        },
        {
          "output_type": "stream",
          "name": "stdout",
          "text": [
            "40 40.0\n",
            "20 20.0\n"
          ]
        },
        {
          "output_type": "display_data",
          "data": {
            "text/plain": [
              "<PIL.Image.Image image mode=L size=6x6>"
            ],
            "image/png": "[encoded data removed]"
          },
          "metadata": {}
        },
        {
          "output_type": "stream",
          "name": "stdout",
          "text": [
            "40 40.0\n",
            "20 20.0\n"
          ]
        },
        {
          "output_type": "display_data",
          "data": {
            "text/plain": [
              "<PIL.Image.Image image mode=L size=6x6>"
            ],
            "image/png": "[encoded data removed]"
          },
          "metadata": {}
        },
        {
          "output_type": "stream",
          "name": "stderr",
          "text": [
            "INFO:werkzeug:127.0.0.1 - - [24/Aug/2024 07:09:54] \"POST / HTTP/1.1\" 200 -\n"
          ]
        },
        {
          "output_type": "stream",
          "name": "stdout",
          "text": [
            "40 40.0\n",
            "[['empty', 'empty', 'empty', 'empty', 'empty', 'empty', 'empty', 'empty', 'empty'], 'data:image/png;base64,iVBORw0KGgoAAAANSUhEUgAAABMAAAATCAAAAABXO2kQAAAA4ElEQVQYGTXBL0sDcQDG8e/TLIL1QMZZVMRgvORr2IJg1Nfggi9BF8wDhQ2DzLRL/gFBscyoRW0305lUJsP4+Nv9bp+PTEUWGBmk681lKsLM3GyruXpMJCMTiKVvoEyQibpi4Q+QkZGBsi0YZbD1jExlsiNYeyeQkQmGJ4K0IJCJrg4EacE4Rc6bBNOjU8H6G7JMNO30tfE6WYTk0/09Zl7ad9rvmUAmuj9/EBiQmctvBaZ1mJm5n47IRoBM7evxQhhZeLBL5Tc/EwZkVgqip0s1PpJSGJnaQAaEaQ2pjf8BbYtVYrv3LlkAAAAASUVORK5CYII=']\n"
          ]
        },
        {
          "output_type": "display_data",
          "data": {
            "text/plain": [
              "<PIL.Image.Image image mode=L size=300x150>"
            ],
            "image/png": "[encoded data removed]"
          },
          "metadata": {}
        },
        {
          "output_type": "display_data",
          "data": {
            "text/plain": [
              "<PIL.Image.Image image mode=L size=300x150>"
            ],
            "image/png": "[encoded data removed]"
          },
          "metadata": {}
        },
        {
          "output_type": "display_data",
          "data": {
            "text/plain": [
              "<PIL.Image.Image image mode=L size=132x132>"
            ],
            "image/png": "[encoded data removed]"
          },
          "metadata": {}
        },
        {
          "output_type": "stream",
          "name": "stdout",
          "text": [
            "20 20.0\n",
            "191955\n",
            "[22.0, 22.0]\n",
            "[21.5, 21.5]\n",
            "1/1 [==============================] - 0s 48ms/step\n",
            "Class: 0 Circle, Confidence Score: 0.9995561242103577\n",
            "0 Circleresult\n"
          ]
        },
        {
          "output_type": "display_data",
          "data": {
            "text/plain": [
              "<PIL.Image.Image image mode=L size=44x44>"
            ],
            "image/png": "[encoded data removed]"
          },
          "metadata": {}
        },
        {
          "output_type": "display_data",
          "data": {
            "text/plain": [
              "<PIL.Image.Image image mode=L size=44x44>"
            ],
            "image/png": "[encoded data removed]"
          },
          "metadata": {}
        },
        {
          "output_type": "stream",
          "name": "stdout",
          "text": [
            "40 39.5\n",
            "20 20.0\n",
            "191955\n",
            "[22.0, 22.0]\n",
            "[21.5, 21.5]\n",
            "1/1 [==============================] - 0s 48ms/step\n",
            "Class: 0 Circle, Confidence Score: 0.9995561242103577\n",
            "0 Circleresult\n"
          ]
        },
        {
          "output_type": "display_data",
          "data": {
            "text/plain": [
              "<PIL.Image.Image image mode=L size=44x44>"
            ],
            "image/png": "[encoded data removed]"
          },
          "metadata": {}
        },
        {
          "output_type": "display_data",
          "data": {
            "text/plain": [
              "<PIL.Image.Image image mode=L size=44x44>"
            ],
            "image/png": "[encoded data removed]"
          },
          "metadata": {}
        },
        {
          "output_type": "stream",
          "name": "stdout",
          "text": [
            "40 39.5\n",
            "20 20.0\n",
            "191955\n",
            "[22.0, 22.0]\n",
            "[21.5, 21.5]\n",
            "1/1 [==============================] - 0s 52ms/step\n",
            "Class: 0 Circle, Confidence Score: 0.9995561242103577\n",
            "0 Circleresult\n"
          ]
        },
        {
          "output_type": "display_data",
          "data": {
            "text/plain": [
              "<PIL.Image.Image image mode=L size=44x44>"
            ],
            "image/png": "[encoded data removed]"
          },
          "metadata": {}
        },
        {
          "output_type": "display_data",
          "data": {
            "text/plain": [
              "<PIL.Image.Image image mode=L size=44x44>"
            ],
            "image/png": "[encoded data removed]"
          },
          "metadata": {}
        },
        {
          "output_type": "stream",
          "name": "stdout",
          "text": [
            "40 39.5\n",
            "20 20.0\n",
            "191955\n",
            "[22.0, 22.0]\n",
            "[21.5, 21.5]\n",
            "1/1 [==============================] - 0s 53ms/step\n",
            "Class: 0 Circle, Confidence Score: 0.9995561242103577\n",
            "0 Circleresult\n"
          ]
        },
        {
          "output_type": "display_data",
          "data": {
            "text/plain": [
              "<PIL.Image.Image image mode=L size=44x44>"
            ],
            "image/png": "[encoded data removed]"
          },
          "metadata": {}
        },
        {
          "output_type": "display_data",
          "data": {
            "text/plain": [
              "<PIL.Image.Image image mode=L size=44x44>"
            ],
            "image/png": "[encoded data removed]"
          },
          "metadata": {}
        },
        {
          "output_type": "stream",
          "name": "stdout",
          "text": [
            "40 39.5\n",
            "20 20.0\n",
            "191955\n",
            "[22.0, 22.0]\n",
            "[21.5, 21.5]\n",
            "1/1 [==============================] - 0s 42ms/step\n",
            "Class: 0 Circle, Confidence Score: 0.9995561242103577\n",
            "0 Circleresult\n"
          ]
        },
        {
          "output_type": "display_data",
          "data": {
            "text/plain": [
              "<PIL.Image.Image image mode=L size=44x44>"
            ],
            "image/png": "[encoded data removed]"
          },
          "metadata": {}
        },
        {
          "output_type": "display_data",
          "data": {
            "text/plain": [
              "<PIL.Image.Image image mode=L size=44x44>"
            ],
            "image/png": "[encoded data removed]"
          },
          "metadata": {}
        },
        {
          "output_type": "stream",
          "name": "stdout",
          "text": [
            "40 39.5\n",
            "20 20.0\n",
            "191955\n",
            "[22.0, 22.0]\n",
            "[21.5, 21.5]\n",
            "1/1 [==============================] - 0s 40ms/step\n",
            "Class: 0 Circle, Confidence Score: 0.9995561242103577\n",
            "0 Circleresult\n"
          ]
        },
        {
          "output_type": "display_data",
          "data": {
            "text/plain": [
              "<PIL.Image.Image image mode=L size=44x44>"
            ],
            "image/png": "[encoded data removed]"
          },
          "metadata": {}
        },
        {
          "output_type": "display_data",
          "data": {
            "text/plain": [
              "<PIL.Image.Image image mode=L size=44x44>"
            ],
            "image/png": "[encoded data removed]"
          },
          "metadata": {}
        },
        {
          "output_type": "stream",
          "name": "stdout",
          "text": [
            "40 39.5\n",
            "20 20.0\n",
            "191955\n",
            "[22.0, 22.0]\n",
            "[21.5, 21.5]\n",
            "1/1 [==============================] - 0s 40ms/step\n",
            "Class: 0 Circle, Confidence Score: 0.9995561242103577\n",
            "0 Circleresult\n"
          ]
        },
        {
          "output_type": "display_data",
          "data": {
            "text/plain": [
              "<PIL.Image.Image image mode=L size=44x44>"
            ],
            "image/png": "[encoded data removed]"
          },
          "metadata": {}
        },
        {
          "output_type": "display_data",
          "data": {
            "text/plain": [
              "<PIL.Image.Image image mode=L size=44x44>"
            ],
            "image/png": "[encoded data removed]"
          },
          "metadata": {}
        },
        {
          "output_type": "stream",
          "name": "stdout",
          "text": [
            "40 39.5\n",
            "20 20.0\n",
            "191955\n",
            "[22.0, 22.0]\n",
            "[21.5, 21.5]\n",
            "1/1 [==============================] - 0s 41ms/step\n",
            "Class: 0 Circle, Confidence Score: 0.9995561242103577\n",
            "0 Circleresult\n"
          ]
        },
        {
          "output_type": "display_data",
          "data": {
            "text/plain": [
              "<PIL.Image.Image image mode=L size=44x44>"
            ],
            "image/png": "[encoded data removed]"
          },
          "metadata": {}
        },
        {
          "output_type": "display_data",
          "data": {
            "text/plain": [
              "<PIL.Image.Image image mode=L size=44x44>"
            ],
            "image/png": "[encoded data removed]"
          },
          "metadata": {}
        },
        {
          "output_type": "stream",
          "name": "stdout",
          "text": [
            "40 39.5\n",
            "20 20.0\n",
            "191955\n",
            "[22.0, 22.0]\n",
            "[21.5, 21.5]\n",
            "1/1 [==============================] - 0s 53ms/step\n",
            "Class: 0 Circle, Confidence Score: 0.9995561242103577\n",
            "0 Circleresult\n"
          ]
        },
        {
          "output_type": "display_data",
          "data": {
            "text/plain": [
              "<PIL.Image.Image image mode=L size=44x44>"
            ],
            "image/png": "[encoded data removed]"
          },
          "metadata": {}
        },
        {
          "output_type": "display_data",
          "data": {
            "text/plain": [
              "<PIL.Image.Image image mode=L size=44x44>"
            ],
            "image/png": "[encoded data removed]"
          },
          "metadata": {}
        },
        {
          "output_type": "stream",
          "name": "stderr",
          "text": [
            "INFO:werkzeug:127.0.0.1 - - [24/Aug/2024 07:09:56] \"POST / HTTP/1.1\" 200 -\n"
          ]
        },
        {
          "output_type": "stream",
          "name": "stdout",
          "text": [
            "40 39.5\n",
            "[['O', 'O', 'O', 'O', 'O', 'O', 'O', 'O', 'O'], 'data:image/png;base64,iVBORw0KGgoAAAANSUhEUgAAAIQAAACECAAAAAB0L9x7AAAA2klEQVR4Ac3BAQEAAABAIP6fdkPJgAzIgAzIgAzIgAzIgAzIgAzIgAzIgAzIgAzIgAzIgAzIgAzIgAzIgAzIgAzIgAzIgAzIgAzIgAzIgAzIgAzIgAzIgAzIgAzIgAzIgAzIgAzIgAzIgAzIgAzIgAzIgAzIgAzIgAzIgAzIgAzIgAzIgAzIgAzIgAzIgAzIgAzIgAzIgAzIgAzIgAzIgAzIgAzIgAzIgAzIgAzIgAzIgAzIgAzIgAzIgAzIgAzIgAzIgAzIgAzIgAzIgAzIgAzIgAzIgAzIgAwEFhQAhYM8NuIAAAAASUVORK5CYII=']\n"
          ]
        },
        {
          "output_type": "stream",
          "name": "stderr",
          "text": [
            "<ipython-input-3-e3cc088acb46>:5: DeprecationWarning: The binary mode of fromstring is deprecated, as it behaves surprisingly on unicode inputs. Use frombuffer instead\n",
            "  nparr = np.fromstring(base64.b64decode(encoded_data),np.uint8)\n"
          ]
        },
        {
          "output_type": "display_data",
          "data": {
            "text/plain": [
              "<PIL.Image.Image image mode=L size=300x150>"
            ],
            "image/png": "[encoded data removed]"
          },
          "metadata": {}
        },
        {
          "output_type": "display_data",
          "data": {
            "text/plain": [
              "<PIL.Image.Image image mode=L size=300x150>"
            ],
            "image/png": "[encoded data removed]"
          },
          "metadata": {}
        },
        {
          "output_type": "display_data",
          "data": {
            "text/plain": [
              "<PIL.Image.Image image mode=L size=9x9>"
            ],
            "image/png": "[encoded data removed]"
          },
          "metadata": {}
        },
        {
          "output_type": "stream",
          "name": "stdout",
          "text": [
            "20 20.0\n"
          ]
        },
        {
          "output_type": "display_data",
          "data": {
            "text/plain": [
              "<PIL.Image.Image image mode=L size=3x3>"
            ],
            "image/png": "[encoded data removed]"
          },
          "metadata": {}
        },
        {
          "output_type": "stream",
          "name": "stdout",
          "text": [
            "40 40.0\n",
            "20 20.0\n"
          ]
        },
        {
          "output_type": "display_data",
          "data": {
            "text/plain": [
              "<PIL.Image.Image image mode=L size=3x3>"
            ],
            "image/png": "[encoded data removed]"
          },
          "metadata": {}
        },
        {
          "output_type": "stream",
          "name": "stdout",
          "text": [
            "40 40.0\n",
            "20 20.0\n"
          ]
        },
        {
          "output_type": "display_data",
          "data": {
            "text/plain": [
              "<PIL.Image.Image image mode=L size=3x3>"
            ],
            "image/png": "[encoded data removed]"
          },
          "metadata": {}
        },
        {
          "output_type": "stream",
          "name": "stdout",
          "text": [
            "40 40.0\n",
            "20 20.0\n"
          ]
        },
        {
          "output_type": "display_data",
          "data": {
            "text/plain": [
              "<PIL.Image.Image image mode=L size=3x3>"
            ],
            "image/png": "[encoded data removed]"
          },
          "metadata": {}
        },
        {
          "output_type": "stream",
          "name": "stdout",
          "text": [
            "40 40.0\n",
            "20 20.0\n"
          ]
        },
        {
          "output_type": "display_data",
          "data": {
            "text/plain": [
              "<PIL.Image.Image image mode=L size=3x3>"
            ],
            "image/png": "[encoded data removed]"
          },
          "metadata": {}
        },
        {
          "output_type": "stream",
          "name": "stdout",
          "text": [
            "40 40.0\n",
            "20 20.0\n"
          ]
        },
        {
          "output_type": "display_data",
          "data": {
            "text/plain": [
              "<PIL.Image.Image image mode=L size=3x3>"
            ],
            "image/png": "[encoded data removed]"
          },
          "metadata": {}
        },
        {
          "output_type": "stream",
          "name": "stdout",
          "text": [
            "40 40.0\n",
            "20 20.0\n"
          ]
        },
        {
          "output_type": "display_data",
          "data": {
            "text/plain": [
              "<PIL.Image.Image image mode=L size=3x3>"
            ],
            "image/png": "[encoded data removed]"
          },
          "metadata": {}
        },
        {
          "output_type": "stream",
          "name": "stdout",
          "text": [
            "40 40.0\n",
            "20 20.0\n"
          ]
        },
        {
          "output_type": "display_data",
          "data": {
            "text/plain": [
              "<PIL.Image.Image image mode=L size=3x3>"
            ],
            "image/png": "[encoded data removed]"
          },
          "metadata": {}
        },
        {
          "output_type": "stream",
          "name": "stdout",
          "text": [
            "40 40.0\n",
            "20 20.0\n"
          ]
        },
        {
          "output_type": "display_data",
          "data": {
            "text/plain": [
              "<PIL.Image.Image image mode=L size=3x3>"
            ],
            "image/png": "[encoded data removed]"
          },
          "metadata": {}
        },
        {
          "output_type": "stream",
          "name": "stderr",
          "text": [
            "INFO:werkzeug:127.0.0.1 - - [24/Aug/2024 07:09:57] \"POST / HTTP/1.1\" 200 -\n"
          ]
        },
        {
          "output_type": "stream",
          "name": "stdout",
          "text": [
            "40 40.0\n",
            "[['empty', 'empty', 'empty', 'empty', 'empty', 'empty', 'empty', 'empty', 'empty'], 'data:image/png;base64,iVBORw0KGgoAAAANSUhEUgAAAAkAAAAJCAAAAADF+lnMAAAAL0lEQVQIHS3BQRHAIAADwTsbuKliLNQMj6oIA82u4aehDGUoQxnKUK7B8U3D9T4bzdsLm/iUuD4AAAAASUVORK5CYII=']\n"
          ]
        },
        {
          "output_type": "stream",
          "name": "stderr",
          "text": [
            "INFO:werkzeug:127.0.0.1 - - [24/Aug/2024 07:09:57] \"OPTIONS / HTTP/1.1\" 200 -\n"
          ]
        },
        {
          "output_type": "display_data",
          "data": {
            "text/plain": [
              "<PIL.Image.Image image mode=L size=300x150>"
            ],
            "image/png": "[encoded data removed]"
          },
          "metadata": {}
        },
        {
          "output_type": "display_data",
          "data": {
            "text/plain": [
              "<PIL.Image.Image image mode=L size=300x150>"
            ],
            "image/png": "[encoded data removed]"
          },
          "metadata": {}
        },
        {
          "output_type": "display_data",
          "data": {
            "text/plain": [
              "<PIL.Image.Image image mode=L size=112x112>"
            ],
            "image/png": "[encoded data removed]"
          },
          "metadata": {}
        },
        {
          "output_type": "stream",
          "name": "stdout",
          "text": [
            "20 20.0\n"
          ]
        },
        {
          "output_type": "display_data",
          "data": {
            "text/plain": [
              "<PIL.Image.Image image mode=L size=37x37>"
            ],
            "image/png": "[encoded data removed]"
          },
          "metadata": {}
        },
        {
          "output_type": "stream",
          "name": "stdout",
          "text": [
            "40 40.0\n",
            "20 20.0\n"
          ]
        },
        {
          "output_type": "display_data",
          "data": {
            "text/plain": [
              "<PIL.Image.Image image mode=L size=37x37>"
            ],
            "image/png": "[encoded data removed]"
          },
          "metadata": {}
        },
        {
          "output_type": "stream",
          "name": "stdout",
          "text": [
            "40 40.0\n",
            "20 20.0\n"
          ]
        },
        {
          "output_type": "display_data",
          "data": {
            "text/plain": [
              "<PIL.Image.Image image mode=L size=37x37>"
            ],
            "image/png": "[encoded data removed]"
          },
          "metadata": {}
        },
        {
          "output_type": "stream",
          "name": "stdout",
          "text": [
            "40 40.0\n",
            "20 20.0\n"
          ]
        },
        {
          "output_type": "display_data",
          "data": {
            "text/plain": [
              "<PIL.Image.Image image mode=L size=37x37>"
            ],
            "image/png": "[encoded data removed]"
          },
          "metadata": {}
        },
        {
          "output_type": "stream",
          "name": "stdout",
          "text": [
            "40 40.0\n",
            "20 20.0\n"
          ]
        },
        {
          "output_type": "display_data",
          "data": {
            "text/plain": [
              "<PIL.Image.Image image mode=L size=37x37>"
            ],
            "image/png": "[encoded data removed]"
          },
          "metadata": {}
        },
        {
          "output_type": "stream",
          "name": "stdout",
          "text": [
            "40 40.0\n",
            "20 20.0\n"
          ]
        },
        {
          "output_type": "display_data",
          "data": {
            "text/plain": [
              "<PIL.Image.Image image mode=L size=37x37>"
            ],
            "image/png": "[encoded data removed]"
          },
          "metadata": {}
        },
        {
          "output_type": "stream",
          "name": "stdout",
          "text": [
            "40 40.0\n",
            "20 20.0\n"
          ]
        },
        {
          "output_type": "display_data",
          "data": {
            "text/plain": [
              "<PIL.Image.Image image mode=L size=37x37>"
            ],
            "image/png": "[encoded data removed]"
          },
          "metadata": {}
        },
        {
          "output_type": "stream",
          "name": "stdout",
          "text": [
            "40 40.0\n",
            "20 20.0\n"
          ]
        },
        {
          "output_type": "display_data",
          "data": {
            "text/plain": [
              "<PIL.Image.Image image mode=L size=37x37>"
            ],
            "image/png": "[encoded data removed]"
          },
          "metadata": {}
        },
        {
          "output_type": "stream",
          "name": "stdout",
          "text": [
            "40 40.0\n",
            "20 20.0\n"
          ]
        },
        {
          "output_type": "display_data",
          "data": {
            "text/plain": [
              "<PIL.Image.Image image mode=L size=37x37>"
            ],
            "image/png": "[encoded data removed]"
          },
          "metadata": {}
        },
        {
          "output_type": "stream",
          "name": "stderr",
          "text": [
            "INFO:werkzeug:127.0.0.1 - - [24/Aug/2024 07:09:57] \"POST / HTTP/1.1\" 200 -\n"
          ]
        },
        {
          "output_type": "stream",
          "name": "stdout",
          "text": [
            "40 40.0\n",
            "[['empty', 'empty', 'empty', 'empty', 'empty', 'empty', 'empty', 'empty', 'empty'], 'data:image/png;base64,iVBORw0KGgoAAAANSUhEUgAAAHAAAABwCAAAAADji6uXAAAArklEQVRoBb3BAQEAAABAIP6f9kLJTGYyk5nMZCYzmclMZjKTmcxkJjOZyUxmMpOZzGQmM5nJTGYyk5nMZCYzmclMZjKTmcxkJjOZyUxmMpOZzGQmM5nJTGYyk5nMZCYzmclMZjKTmcxkJjOZyUxmMpOZzGQmM5nJTGYyk5nMZCYzmclMZjKTmcxkJjOZyUxmMpOZzGQmM5nJTGYyk5nMZCYzmclMZjKTmcxkJjOZBRtNAHF8ZJDUAAAAAElFTkSuQmCC']\n"
          ]
        },
        {
          "output_type": "display_data",
          "data": {
            "text/plain": [
              "<PIL.Image.Image image mode=L size=300x150>"
            ],
            "image/png": "[encoded data removed]"
          },
          "metadata": {}
        },
        {
          "output_type": "display_data",
          "data": {
            "text/plain": [
              "<PIL.Image.Image image mode=L size=300x150>"
            ],
            "image/png": "[encoded data removed]"
          },
          "metadata": {}
        },
        {
          "output_type": "display_data",
          "data": {
            "text/plain": [
              "<PIL.Image.Image image mode=L size=9x9>"
            ],
            "image/png": "[encoded data removed]"
          },
          "metadata": {}
        },
        {
          "output_type": "stream",
          "name": "stdout",
          "text": [
            "20 20.0\n"
          ]
        },
        {
          "output_type": "display_data",
          "data": {
            "text/plain": [
              "<PIL.Image.Image image mode=L size=3x3>"
            ],
            "image/png": "[encoded data removed]"
          },
          "metadata": {}
        },
        {
          "output_type": "stream",
          "name": "stdout",
          "text": [
            "40 40.0\n",
            "20 20.0\n"
          ]
        },
        {
          "output_type": "display_data",
          "data": {
            "text/plain": [
              "<PIL.Image.Image image mode=L size=3x3>"
            ],
            "image/png": "[encoded data removed]"
          },
          "metadata": {}
        },
        {
          "output_type": "stream",
          "name": "stdout",
          "text": [
            "40 40.0\n",
            "20 20.0\n"
          ]
        },
        {
          "output_type": "display_data",
          "data": {
            "text/plain": [
              "<PIL.Image.Image image mode=L size=3x3>"
            ],
            "image/png": "[encoded data removed]"
          },
          "metadata": {}
        },
        {
          "output_type": "stream",
          "name": "stdout",
          "text": [
            "40 40.0\n",
            "20 20.0\n"
          ]
        },
        {
          "output_type": "display_data",
          "data": {
            "text/plain": [
              "<PIL.Image.Image image mode=L size=3x3>"
            ],
            "image/png": "[encoded data removed]"
          },
          "metadata": {}
        },
        {
          "output_type": "stream",
          "name": "stdout",
          "text": [
            "40 40.0\n",
            "20 20.0\n"
          ]
        },
        {
          "output_type": "display_data",
          "data": {
            "text/plain": [
              "<PIL.Image.Image image mode=L size=3x3>"
            ],
            "image/png": "[encoded data removed]"
          },
          "metadata": {}
        },
        {
          "output_type": "stream",
          "name": "stdout",
          "text": [
            "40 40.0\n",
            "20 20.0\n"
          ]
        },
        {
          "output_type": "display_data",
          "data": {
            "text/plain": [
              "<PIL.Image.Image image mode=L size=3x3>"
            ],
            "image/png": "[encoded data removed]"
          },
          "metadata": {}
        },
        {
          "output_type": "stream",
          "name": "stdout",
          "text": [
            "40 40.0\n",
            "20 20.0\n"
          ]
        },
        {
          "output_type": "display_data",
          "data": {
            "text/plain": [
              "<PIL.Image.Image image mode=L size=3x3>"
            ],
            "image/png": "[encoded data removed]"
          },
          "metadata": {}
        },
        {
          "output_type": "stream",
          "name": "stdout",
          "text": [
            "40 40.0\n",
            "20 20.0\n"
          ]
        },
        {
          "output_type": "display_data",
          "data": {
            "text/plain": [
              "<PIL.Image.Image image mode=L size=3x3>"
            ],
            "image/png": "[encoded data removed]"
          },
          "metadata": {}
        },
        {
          "output_type": "stream",
          "name": "stdout",
          "text": [
            "40 40.0\n",
            "20 20.0\n"
          ]
        },
        {
          "output_type": "display_data",
          "data": {
            "text/plain": [
              "<PIL.Image.Image image mode=L size=3x3>"
            ],
            "image/png": "[encoded data removed]"
          },
          "metadata": {}
        },
        {
          "output_type": "stream",
          "name": "stderr",
          "text": [
            "INFO:werkzeug:127.0.0.1 - - [24/Aug/2024 07:09:58] \"POST / HTTP/1.1\" 200 -\n"
          ]
        },
        {
          "output_type": "stream",
          "name": "stdout",
          "text": [
            "40 40.0\n",
            "[['empty', 'empty', 'empty', 'empty', 'empty', 'empty', 'empty', 'empty', 'empty'], 'data:image/png;base64,iVBORw0KGgoAAAANSUhEUgAAAAkAAAAJCAAAAADF+lnMAAAANUlEQVQIHS3BQRGAMBAEwRlVeSMBd3lGCk/koIBN1eW6DeW5/KXchmMajs/QDM3QDM13UNYGdnkMe1CWVpkAAAAASUVORK5CYII=']\n"
          ]
        },
        {
          "output_type": "display_data",
          "data": {
            "text/plain": [
              "<PIL.Image.Image image mode=L size=300x150>"
            ],
            "image/png": "[encoded data removed]"
          },
          "metadata": {}
        },
        {
          "output_type": "display_data",
          "data": {
            "text/plain": [
              "<PIL.Image.Image image mode=L size=300x150>"
            ],
            "image/png": "[encoded data removed]"
          },
          "metadata": {}
        },
        {
          "output_type": "display_data",
          "data": {
            "text/plain": [
              "<PIL.Image.Image image mode=L size=19x19>"
            ],
            "image/png": "[encoded data removed]"
          },
          "metadata": {}
        },
        {
          "output_type": "stream",
          "name": "stdout",
          "text": [
            "20 20.0\n"
          ]
        },
        {
          "output_type": "display_data",
          "data": {
            "text/plain": [
              "<PIL.Image.Image image mode=L size=6x6>"
            ],
            "image/png": "[encoded data removed]"
          },
          "metadata": {}
        },
        {
          "output_type": "stream",
          "name": "stdout",
          "text": [
            "40 40.0\n",
            "20 20.0\n"
          ]
        },
        {
          "output_type": "display_data",
          "data": {
            "text/plain": [
              "<PIL.Image.Image image mode=L size=6x6>"
            ],
            "image/png": "[encoded data removed]"
          },
          "metadata": {}
        },
        {
          "output_type": "stream",
          "name": "stdout",
          "text": [
            "40 40.0\n",
            "20 20.0\n"
          ]
        },
        {
          "output_type": "display_data",
          "data": {
            "text/plain": [
              "<PIL.Image.Image image mode=L size=6x6>"
            ],
            "image/png": "[encoded data removed]"
          },
          "metadata": {}
        },
        {
          "output_type": "stream",
          "name": "stdout",
          "text": [
            "40 40.0\n",
            "20 20.0\n"
          ]
        },
        {
          "output_type": "display_data",
          "data": {
            "text/plain": [
              "<PIL.Image.Image image mode=L size=6x6>"
            ],
            "image/png": "[encoded data removed]"
          },
          "metadata": {}
        },
        {
          "output_type": "stream",
          "name": "stdout",
          "text": [
            "40 40.0\n",
            "20 20.0\n"
          ]
        },
        {
          "output_type": "display_data",
          "data": {
            "text/plain": [
              "<PIL.Image.Image image mode=L size=6x6>"
            ],
            "image/png": "[encoded data removed]"
          },
          "metadata": {}
        },
        {
          "output_type": "stream",
          "name": "stdout",
          "text": [
            "40 40.0\n",
            "20 20.0\n"
          ]
        },
        {
          "output_type": "display_data",
          "data": {
            "text/plain": [
              "<PIL.Image.Image image mode=L size=6x6>"
            ],
            "image/png": "[encoded data removed]"
          },
          "metadata": {}
        },
        {
          "output_type": "stream",
          "name": "stdout",
          "text": [
            "40 40.0\n",
            "20 20.0\n"
          ]
        },
        {
          "output_type": "display_data",
          "data": {
            "text/plain": [
              "<PIL.Image.Image image mode=L size=6x6>"
            ],
            "image/png": "[encoded data removed]"
          },
          "metadata": {}
        },
        {
          "output_type": "stream",
          "name": "stdout",
          "text": [
            "40 40.0\n",
            "20 20.0\n"
          ]
        },
        {
          "output_type": "display_data",
          "data": {
            "text/plain": [
              "<PIL.Image.Image image mode=L size=6x6>"
            ],
            "image/png": "[encoded data removed]"
          },
          "metadata": {}
        },
        {
          "output_type": "stream",
          "name": "stdout",
          "text": [
            "40 40.0\n",
            "20 20.0\n"
          ]
        },
        {
          "output_type": "display_data",
          "data": {
            "text/plain": [
              "<PIL.Image.Image image mode=L size=6x6>"
            ],
            "image/png": "[encoded data removed]"
          },
          "metadata": {}
        },
        {
          "output_type": "stream",
          "name": "stderr",
          "text": [
            "INFO:werkzeug:127.0.0.1 - - [24/Aug/2024 07:09:59] \"POST / HTTP/1.1\" 200 -\n"
          ]
        },
        {
          "output_type": "stream",
          "name": "stdout",
          "text": [
            "40 40.0\n",
            "[['empty', 'empty', 'empty', 'empty', 'empty', 'empty', 'empty', 'empty', 'empty'], 'data:image/png;base64,iVBORw0KGgoAAAANSUhEUgAAABMAAAATCAAAAABXO2kQAAAA5ElEQVQYGWXBsS8DUQDH8e9Pgk7SQaJLq+PbNIbOJgMTi/oPsDEjuUFiMxjYDdow1HaDQRDpJR1OLB2l00ksiKRBPPeeXpvw+WijeHU/HZEvPkCuYmZM2Yi/jBH/iVIXb3G1fdvG0en8a70RA9WlucsdHFlSYSNMYHTsHUcW73Dri4ws3vVRs0efLH2ti2YHT5aBZPv8hZQsA60gxJElkwTHeLJk9oMenqIqzvNkPejwS2sHOeBxU093jHzjCLMbj8f5E2Bi+ePsExApWZyp9dm9CCoqJAyVulCu6WbhTZahQm3lB0CMRNItWUHJAAAAAElFTkSuQmCC']\n"
          ]
        },
        {
          "output_type": "display_data",
          "data": {
            "text/plain": [
              "<PIL.Image.Image image mode=L size=300x150>"
            ],
            "image/png": "[encoded data removed]"
          },
          "metadata": {}
        },
        {
          "output_type": "display_data",
          "data": {
            "text/plain": [
              "<PIL.Image.Image image mode=L size=300x150>"
            ],
            "image/png": "[encoded data removed]"
          },
          "metadata": {}
        },
        {
          "output_type": "display_data",
          "data": {
            "text/plain": [
              "<PIL.Image.Image image mode=L size=10x10>"
            ],
            "image/png": "[encoded data removed]"
          },
          "metadata": {}
        },
        {
          "output_type": "stream",
          "name": "stdout",
          "text": [
            "20 20.0\n"
          ]
        },
        {
          "output_type": "display_data",
          "data": {
            "text/plain": [
              "<PIL.Image.Image image mode=L size=3x3>"
            ],
            "image/png": "[encoded data removed]"
          },
          "metadata": {}
        },
        {
          "output_type": "stream",
          "name": "stdout",
          "text": [
            "40 40.0\n",
            "20 20.0\n"
          ]
        },
        {
          "output_type": "display_data",
          "data": {
            "text/plain": [
              "<PIL.Image.Image image mode=L size=3x3>"
            ],
            "image/png": "[encoded data removed]"
          },
          "metadata": {}
        },
        {
          "output_type": "stream",
          "name": "stdout",
          "text": [
            "40 40.0\n",
            "20 20.0\n"
          ]
        },
        {
          "output_type": "display_data",
          "data": {
            "text/plain": [
              "<PIL.Image.Image image mode=L size=3x3>"
            ],
            "image/png": "[encoded data removed]"
          },
          "metadata": {}
        },
        {
          "output_type": "stream",
          "name": "stdout",
          "text": [
            "40 40.0\n",
            "20 20.0\n"
          ]
        },
        {
          "output_type": "display_data",
          "data": {
            "text/plain": [
              "<PIL.Image.Image image mode=L size=3x3>"
            ],
            "image/png": "[encoded data removed]"
          },
          "metadata": {}
        },
        {
          "output_type": "stream",
          "name": "stdout",
          "text": [
            "40 40.0\n",
            "20 20.0\n"
          ]
        },
        {
          "output_type": "display_data",
          "data": {
            "text/plain": [
              "<PIL.Image.Image image mode=L size=3x3>"
            ],
            "image/png": "[encoded data removed]"
          },
          "metadata": {}
        },
        {
          "output_type": "stream",
          "name": "stdout",
          "text": [
            "40 40.0\n",
            "20 20.0\n"
          ]
        },
        {
          "output_type": "display_data",
          "data": {
            "text/plain": [
              "<PIL.Image.Image image mode=L size=3x3>"
            ],
            "image/png": "[encoded data removed]"
          },
          "metadata": {}
        },
        {
          "output_type": "stream",
          "name": "stdout",
          "text": [
            "40 40.0\n",
            "20 20.0\n"
          ]
        },
        {
          "output_type": "display_data",
          "data": {
            "text/plain": [
              "<PIL.Image.Image image mode=L size=3x3>"
            ],
            "image/png": "[encoded data removed]"
          },
          "metadata": {}
        },
        {
          "output_type": "stream",
          "name": "stdout",
          "text": [
            "40 40.0\n",
            "20 20.0\n"
          ]
        },
        {
          "output_type": "display_data",
          "data": {
            "text/plain": [
              "<PIL.Image.Image image mode=L size=3x3>"
            ],
            "image/png": "[encoded data removed]"
          },
          "metadata": {}
        },
        {
          "output_type": "stream",
          "name": "stdout",
          "text": [
            "40 40.0\n",
            "20 20.0\n"
          ]
        },
        {
          "output_type": "display_data",
          "data": {
            "text/plain": [
              "<PIL.Image.Image image mode=L size=3x3>"
            ],
            "image/png": "[encoded data removed]"
          },
          "metadata": {}
        },
        {
          "output_type": "stream",
          "name": "stderr",
          "text": [
            "INFO:werkzeug:127.0.0.1 - - [24/Aug/2024 07:10:00] \"POST / HTTP/1.1\" 200 -\n"
          ]
        },
        {
          "output_type": "stream",
          "name": "stdout",
          "text": [
            "40 40.0\n",
            "[['empty', 'empty', 'empty', 'empty', 'empty', 'empty', 'empty', 'empty', 'empty'], 'data:image/png;base64,iVBORw0KGgoAAAANSUhEUgAAAAoAAAAKCAAAAACoWZBhAAAAWklEQVQIHWOcnsHAUDiBISvUkfE/AxAsSGSIUGD8zwACD/Q/MTD+ZwCBz2ovGBj/M4DBj8QVjP8ZIGCfM+N/BihgZPzPAAErIhn/M0CA5g3Gp1IMQPBrUSoDAJ3/GIP9DfUOAAAAAElFTkSuQmCC']\n"
          ]
        },
        {
          "output_type": "display_data",
          "data": {
            "text/plain": [
              "<PIL.Image.Image image mode=L size=300x150>"
            ],
            "image/png": "[encoded data removed]"
          },
          "metadata": {}
        },
        {
          "output_type": "display_data",
          "data": {
            "text/plain": [
              "<PIL.Image.Image image mode=L size=300x150>"
            ],
            "image/png": "[encoded data removed]"
          },
          "metadata": {}
        },
        {
          "output_type": "display_data",
          "data": {
            "text/plain": [
              "<PIL.Image.Image image mode=L size=4x4>"
            ],
            "image/png": "[encoded data removed]"
          },
          "metadata": {}
        },
        {
          "output_type": "stream",
          "name": "stdout",
          "text": [
            "20 20.0\n"
          ]
        },
        {
          "output_type": "display_data",
          "data": {
            "text/plain": [
              "<PIL.Image.Image image mode=L size=1x1>"
            ],
            "image/png": "[encoded data removed]"
          },
          "metadata": {}
        },
        {
          "output_type": "stream",
          "name": "stdout",
          "text": [
            "40 40.0\n",
            "20 20.0\n"
          ]
        },
        {
          "output_type": "display_data",
          "data": {
            "text/plain": [
              "<PIL.Image.Image image mode=L size=1x1>"
            ],
            "image/png": "[encoded data removed]"
          },
          "metadata": {}
        },
        {
          "output_type": "stream",
          "name": "stdout",
          "text": [
            "40 40.0\n",
            "20 20.0\n"
          ]
        },
        {
          "output_type": "display_data",
          "data": {
            "text/plain": [
              "<PIL.Image.Image image mode=L size=1x1>"
            ],
            "image/png": "[encoded data removed]"
          },
          "metadata": {}
        },
        {
          "output_type": "stream",
          "name": "stdout",
          "text": [
            "40 40.0\n",
            "20 20.0\n"
          ]
        },
        {
          "output_type": "display_data",
          "data": {
            "text/plain": [
              "<PIL.Image.Image image mode=L size=1x1>"
            ],
            "image/png": "[encoded data removed]"
          },
          "metadata": {}
        },
        {
          "output_type": "stream",
          "name": "stdout",
          "text": [
            "40 40.0\n",
            "20 20.0\n"
          ]
        },
        {
          "output_type": "display_data",
          "data": {
            "text/plain": [
              "<PIL.Image.Image image mode=L size=1x1>"
            ],
            "image/png": "[encoded data removed]"
          },
          "metadata": {}
        },
        {
          "output_type": "stream",
          "name": "stdout",
          "text": [
            "40 40.0\n",
            "20 20.0\n"
          ]
        },
        {
          "output_type": "display_data",
          "data": {
            "text/plain": [
              "<PIL.Image.Image image mode=L size=1x1>"
            ],
            "image/png": "[encoded data removed]"
          },
          "metadata": {}
        },
        {
          "output_type": "stream",
          "name": "stdout",
          "text": [
            "40 40.0\n",
            "20 20.0\n"
          ]
        },
        {
          "output_type": "display_data",
          "data": {
            "text/plain": [
              "<PIL.Image.Image image mode=L size=1x1>"
            ],
            "image/png": "[encoded data removed]"
          },
          "metadata": {}
        },
        {
          "output_type": "stream",
          "name": "stdout",
          "text": [
            "40 40.0\n",
            "20 20.0\n"
          ]
        },
        {
          "output_type": "display_data",
          "data": {
            "text/plain": [
              "<PIL.Image.Image image mode=L size=1x1>"
            ],
            "image/png": "[encoded data removed]"
          },
          "metadata": {}
        },
        {
          "output_type": "stream",
          "name": "stdout",
          "text": [
            "40 40.0\n",
            "20 20.0\n"
          ]
        },
        {
          "output_type": "display_data",
          "data": {
            "text/plain": [
              "<PIL.Image.Image image mode=L size=1x1>"
            ],
            "image/png": "[encoded data removed]"
          },
          "metadata": {}
        },
        {
          "output_type": "stream",
          "name": "stderr",
          "text": [
            "INFO:werkzeug:127.0.0.1 - - [24/Aug/2024 07:10:01] \"POST / HTTP/1.1\" 200 -\n"
          ]
        },
        {
          "output_type": "stream",
          "name": "stdout",
          "text": [
            "40 40.0\n",
            "[['empty', 'empty', 'empty', 'empty', 'empty', 'empty', 'empty', 'empty', 'empty'], 'data:image/png;base64,iVBORw0KGgoAAAANSUhEUgAAAAQAAAAECAAAAACMmsGiAAAAHElEQVQIHWP8z8jAwBi+kiGEsX2SOAMjw38GBgAxJQSIba+yBgAAAABJRU5ErkJggg==']\n"
          ]
        },
        {
          "output_type": "display_data",
          "data": {
            "text/plain": [
              "<PIL.Image.Image image mode=L size=300x150>"
            ],
            "image/png": "[encoded data removed]"
          },
          "metadata": {}
        },
        {
          "output_type": "display_data",
          "data": {
            "text/plain": [
              "<PIL.Image.Image image mode=L size=300x150>"
            ],
            "image/png": "[encoded data removed]"
          },
          "metadata": {}
        },
        {
          "output_type": "display_data",
          "data": {
            "text/plain": [
              "<PIL.Image.Image image mode=L size=9x9>"
            ],
            "image/png": "[encoded data removed]"
          },
          "metadata": {}
        },
        {
          "output_type": "stream",
          "name": "stdout",
          "text": [
            "20 20.0\n"
          ]
        },
        {
          "output_type": "display_data",
          "data": {
            "text/plain": [
              "<PIL.Image.Image image mode=L size=3x3>"
            ],
            "image/png": "[encoded data removed]"
          },
          "metadata": {}
        },
        {
          "output_type": "stream",
          "name": "stdout",
          "text": [
            "40 40.0\n",
            "20 20.0\n"
          ]
        },
        {
          "output_type": "display_data",
          "data": {
            "text/plain": [
              "<PIL.Image.Image image mode=L size=3x3>"
            ],
            "image/png": "[encoded data removed]"
          },
          "metadata": {}
        },
        {
          "output_type": "stream",
          "name": "stdout",
          "text": [
            "40 40.0\n",
            "20 20.0\n"
          ]
        },
        {
          "output_type": "display_data",
          "data": {
            "text/plain": [
              "<PIL.Image.Image image mode=L size=3x3>"
            ],
            "image/png": "[encoded data removed]"
          },
          "metadata": {}
        },
        {
          "output_type": "stream",
          "name": "stdout",
          "text": [
            "40 40.0\n",
            "20 20.0\n"
          ]
        },
        {
          "output_type": "display_data",
          "data": {
            "text/plain": [
              "<PIL.Image.Image image mode=L size=3x3>"
            ],
            "image/png": "[encoded data removed]"
          },
          "metadata": {}
        },
        {
          "output_type": "stream",
          "name": "stdout",
          "text": [
            "40 40.0\n",
            "20 20.0\n"
          ]
        },
        {
          "output_type": "display_data",
          "data": {
            "text/plain": [
              "<PIL.Image.Image image mode=L size=3x3>"
            ],
            "image/png": "[encoded data removed]"
          },
          "metadata": {}
        },
        {
          "output_type": "stream",
          "name": "stdout",
          "text": [
            "40 40.0\n",
            "20 20.0\n"
          ]
        },
        {
          "output_type": "display_data",
          "data": {
            "text/plain": [
              "<PIL.Image.Image image mode=L size=3x3>"
            ],
            "image/png": "[encoded data removed]"
          },
          "metadata": {}
        },
        {
          "output_type": "stream",
          "name": "stdout",
          "text": [
            "40 40.0\n",
            "20 20.0\n"
          ]
        },
        {
          "output_type": "display_data",
          "data": {
            "text/plain": [
              "<PIL.Image.Image image mode=L size=3x3>"
            ],
            "image/png": "[encoded data removed]"
          },
          "metadata": {}
        },
        {
          "output_type": "stream",
          "name": "stdout",
          "text": [
            "40 40.0\n",
            "20 20.0\n"
          ]
        },
        {
          "output_type": "display_data",
          "data": {
            "text/plain": [
              "<PIL.Image.Image image mode=L size=3x3>"
            ],
            "image/png": "[encoded data removed]"
          },
          "metadata": {}
        },
        {
          "output_type": "stream",
          "name": "stdout",
          "text": [
            "40 40.0\n",
            "20 20.0\n"
          ]
        },
        {
          "output_type": "display_data",
          "data": {
            "text/plain": [
              "<PIL.Image.Image image mode=L size=3x3>"
            ],
            "image/png": "[encoded data removed]"
          },
          "metadata": {}
        },
        {
          "output_type": "stream",
          "name": "stderr",
          "text": [
            "INFO:werkzeug:127.0.0.1 - - [24/Aug/2024 07:10:02] \"POST / HTTP/1.1\" 200 -\n"
          ]
        },
        {
          "output_type": "stream",
          "name": "stdout",
          "text": [
            "40 40.0\n",
            "[['empty', 'empty', 'empty', 'empty', 'empty', 'empty', 'empty', 'empty', 'empty'], 'data:image/png;base64,iVBORw0KGgoAAAANSUhEUgAAAAkAAAAJCAAAAADF+lnMAAAAQElEQVQIHWN02c0ABoyMt1UYwOAe4x9mBjDYyfifAQJOMP5ngALG/wxQwPifAQIOMF7VYgCDaYxeUxUYgOC3NgBhww3dp64I0gAAAABJRU5ErkJggg==']\n"
          ]
        },
        {
          "output_type": "stream",
          "name": "stderr",
          "text": [
            "INFO:werkzeug:127.0.0.1 - - [24/Aug/2024 07:10:03] \"OPTIONS / HTTP/1.1\" 200 -\n"
          ]
        },
        {
          "output_type": "display_data",
          "data": {
            "text/plain": [
              "<PIL.Image.Image image mode=L size=300x150>"
            ],
            "image/png": "[encoded data removed]"
          },
          "metadata": {}
        },
        {
          "output_type": "display_data",
          "data": {
            "text/plain": [
              "<PIL.Image.Image image mode=L size=300x150>"
            ],
            "image/png": "[encoded data removed]"
          },
          "metadata": {}
        },
        {
          "output_type": "display_data",
          "data": {
            "text/plain": [
              "<PIL.Image.Image image mode=L size=9x9>"
            ],
            "image/png": "[encoded data removed]"
          },
          "metadata": {}
        },
        {
          "output_type": "stream",
          "name": "stdout",
          "text": [
            "20 20.0\n"
          ]
        },
        {
          "output_type": "display_data",
          "data": {
            "text/plain": [
              "<PIL.Image.Image image mode=L size=3x3>"
            ],
            "image/png": "[encoded data removed]"
          },
          "metadata": {}
        },
        {
          "output_type": "stream",
          "name": "stdout",
          "text": [
            "40 40.0\n",
            "20 20.0\n"
          ]
        },
        {
          "output_type": "display_data",
          "data": {
            "text/plain": [
              "<PIL.Image.Image image mode=L size=3x3>"
            ],
            "image/png": "[encoded data removed]"
          },
          "metadata": {}
        },
        {
          "output_type": "stream",
          "name": "stdout",
          "text": [
            "40 40.0\n",
            "20 20.0\n"
          ]
        },
        {
          "output_type": "display_data",
          "data": {
            "text/plain": [
              "<PIL.Image.Image image mode=L size=3x3>"
            ],
            "image/png": "[encoded data removed]"
          },
          "metadata": {}
        },
        {
          "output_type": "stream",
          "name": "stdout",
          "text": [
            "40 40.0\n",
            "20 20.0\n"
          ]
        },
        {
          "output_type": "display_data",
          "data": {
            "text/plain": [
              "<PIL.Image.Image image mode=L size=3x3>"
            ],
            "image/png": "[encoded data removed]"
          },
          "metadata": {}
        },
        {
          "output_type": "stream",
          "name": "stdout",
          "text": [
            "40 40.0\n",
            "20 20.0\n"
          ]
        },
        {
          "output_type": "display_data",
          "data": {
            "text/plain": [
              "<PIL.Image.Image image mode=L size=3x3>"
            ],
            "image/png": "[encoded data removed]"
          },
          "metadata": {}
        },
        {
          "output_type": "stream",
          "name": "stdout",
          "text": [
            "40 40.0\n",
            "20 20.0\n"
          ]
        },
        {
          "output_type": "display_data",
          "data": {
            "text/plain": [
              "<PIL.Image.Image image mode=L size=3x3>"
            ],
            "image/png": "[encoded data removed]"
          },
          "metadata": {}
        },
        {
          "output_type": "stream",
          "name": "stdout",
          "text": [
            "40 40.0\n",
            "20 20.0\n"
          ]
        },
        {
          "output_type": "display_data",
          "data": {
            "text/plain": [
              "<PIL.Image.Image image mode=L size=3x3>"
            ],
            "image/png": "[encoded data removed]"
          },
          "metadata": {}
        },
        {
          "output_type": "stream",
          "name": "stdout",
          "text": [
            "40 40.0\n",
            "20 20.0\n"
          ]
        },
        {
          "output_type": "display_data",
          "data": {
            "text/plain": [
              "<PIL.Image.Image image mode=L size=3x3>"
            ],
            "image/png": "[encoded data removed]"
          },
          "metadata": {}
        },
        {
          "output_type": "stream",
          "name": "stdout",
          "text": [
            "40 40.0\n",
            "20 20.0\n"
          ]
        },
        {
          "output_type": "display_data",
          "data": {
            "text/plain": [
              "<PIL.Image.Image image mode=L size=3x3>"
            ],
            "image/png": "[encoded data removed]"
          },
          "metadata": {}
        },
        {
          "output_type": "stream",
          "name": "stderr",
          "text": [
            "INFO:werkzeug:127.0.0.1 - - [24/Aug/2024 07:10:03] \"POST / HTTP/1.1\" 200 -\n"
          ]
        },
        {
          "output_type": "stream",
          "name": "stdout",
          "text": [
            "40 40.0\n",
            "[['empty', 'empty', 'empty', 'empty', 'empty', 'empty', 'empty', 'empty', 'empty'], 'data:image/png;base64,iVBORw0KGgoAAAANSUhEUgAAAAkAAAAJCAAAAADF+lnMAAAAQElEQVQIHS3BQRlAQACE0X9uCmw8HbRQw+5NAxE2ggycKDA+xnua5gHY1kVt5NWrjsJnl4lTJm6ZuGR+MtFkoj9v0BF7M9ntNQAAAABJRU5ErkJggg==']\n"
          ]
        },
        {
          "output_type": "display_data",
          "data": {
            "text/plain": [
              "<PIL.Image.Image image mode=L size=300x150>"
            ],
            "image/png": "[encoded data removed]"
          },
          "metadata": {}
        },
        {
          "output_type": "display_data",
          "data": {
            "text/plain": [
              "<PIL.Image.Image image mode=L size=300x150>"
            ],
            "image/png": "[encoded data removed]"
          },
          "metadata": {}
        },
        {
          "output_type": "display_data",
          "data": {
            "text/plain": [
              "<PIL.Image.Image image mode=L size=11x11>"
            ],
            "image/png": "[encoded data removed]"
          },
          "metadata": {}
        },
        {
          "output_type": "stream",
          "name": "stdout",
          "text": [
            "20 20.0\n"
          ]
        },
        {
          "output_type": "display_data",
          "data": {
            "text/plain": [
              "<PIL.Image.Image image mode=L size=3x3>"
            ],
            "image/png": "[encoded data removed]"
          },
          "metadata": {}
        },
        {
          "output_type": "stream",
          "name": "stdout",
          "text": [
            "40 40.0\n",
            "20 20.0\n"
          ]
        },
        {
          "output_type": "display_data",
          "data": {
            "text/plain": [
              "<PIL.Image.Image image mode=L size=3x3>"
            ],
            "image/png": "[encoded data removed]"
          },
          "metadata": {}
        },
        {
          "output_type": "stream",
          "name": "stdout",
          "text": [
            "40 40.0\n",
            "20 20.0\n"
          ]
        },
        {
          "output_type": "display_data",
          "data": {
            "text/plain": [
              "<PIL.Image.Image image mode=L size=3x3>"
            ],
            "image/png": "[encoded data removed]"
          },
          "metadata": {}
        },
        {
          "output_type": "stream",
          "name": "stdout",
          "text": [
            "40 40.0\n",
            "20 20.0\n"
          ]
        },
        {
          "output_type": "display_data",
          "data": {
            "text/plain": [
              "<PIL.Image.Image image mode=L size=3x3>"
            ],
            "image/png": "[encoded data removed]"
          },
          "metadata": {}
        },
        {
          "output_type": "stream",
          "name": "stdout",
          "text": [
            "40 40.0\n",
            "20 20.0\n"
          ]
        },
        {
          "output_type": "display_data",
          "data": {
            "text/plain": [
              "<PIL.Image.Image image mode=L size=3x3>"
            ],
            "image/png": "[encoded data removed]"
          },
          "metadata": {}
        },
        {
          "output_type": "stream",
          "name": "stdout",
          "text": [
            "40 40.0\n",
            "20 20.0\n"
          ]
        },
        {
          "output_type": "display_data",
          "data": {
            "text/plain": [
              "<PIL.Image.Image image mode=L size=3x3>"
            ],
            "image/png": "[encoded data removed]"
          },
          "metadata": {}
        },
        {
          "output_type": "stream",
          "name": "stdout",
          "text": [
            "40 40.0\n",
            "20 20.0\n"
          ]
        },
        {
          "output_type": "display_data",
          "data": {
            "text/plain": [
              "<PIL.Image.Image image mode=L size=3x3>"
            ],
            "image/png": "[encoded data removed]"
          },
          "metadata": {}
        },
        {
          "output_type": "stream",
          "name": "stdout",
          "text": [
            "40 40.0\n",
            "20 20.0\n"
          ]
        },
        {
          "output_type": "display_data",
          "data": {
            "text/plain": [
              "<PIL.Image.Image image mode=L size=3x3>"
            ],
            "image/png": "[encoded data removed]"
          },
          "metadata": {}
        },
        {
          "output_type": "stream",
          "name": "stdout",
          "text": [
            "40 40.0\n",
            "20 20.0\n"
          ]
        },
        {
          "output_type": "display_data",
          "data": {
            "text/plain": [
              "<PIL.Image.Image image mode=L size=3x3>"
            ],
            "image/png": "[encoded data removed]"
          },
          "metadata": {}
        },
        {
          "output_type": "stream",
          "name": "stderr",
          "text": [
            "INFO:werkzeug:127.0.0.1 - - [24/Aug/2024 07:10:04] \"POST / HTTP/1.1\" 200 -\n"
          ]
        },
        {
          "output_type": "stream",
          "name": "stdout",
          "text": [
            "40 40.0\n",
            "[['empty', 'empty', 'empty', 'empty', 'empty', 'empty', 'empty', 'empty', 'empty'], 'data:image/png;base64,iVBORw0KGgoAAAANSUhEUgAAAAsAAAALCAAAAACMxyj6AAAAQUlEQVQIHT3BsQ1AUBhG0XsrMZJOdIawl9oCRhCbmEL7SeS9/xzni989TIZuNXS7oXsMxVAMxVAMxXekOd0OmuUDM5UOtPPq7PgAAAAASUVORK5CYII=']\n"
          ]
        },
        {
          "output_type": "display_data",
          "data": {
            "text/plain": [
              "<PIL.Image.Image image mode=L size=300x150>"
            ],
            "image/png": "[encoded data removed]"
          },
          "metadata": {}
        },
        {
          "output_type": "display_data",
          "data": {
            "text/plain": [
              "<PIL.Image.Image image mode=L size=300x150>"
            ],
            "image/png": "[encoded data removed]"
          },
          "metadata": {}
        },
        {
          "output_type": "display_data",
          "data": {
            "text/plain": [
              "<PIL.Image.Image image mode=L size=18x18>"
            ],
            "image/png": "[encoded data removed]"
          },
          "metadata": {}
        },
        {
          "output_type": "stream",
          "name": "stdout",
          "text": [
            "20 20.0\n"
          ]
        },
        {
          "output_type": "display_data",
          "data": {
            "text/plain": [
              "<PIL.Image.Image image mode=L size=6x6>"
            ],
            "image/png": "[encoded data removed]"
          },
          "metadata": {}
        },
        {
          "output_type": "stream",
          "name": "stdout",
          "text": [
            "40 40.0\n",
            "20 20.0\n"
          ]
        },
        {
          "output_type": "display_data",
          "data": {
            "text/plain": [
              "<PIL.Image.Image image mode=L size=6x6>"
            ],
            "image/png": "[encoded data removed]"
          },
          "metadata": {}
        },
        {
          "output_type": "stream",
          "name": "stdout",
          "text": [
            "40 40.0\n",
            "20 20.0\n"
          ]
        },
        {
          "output_type": "display_data",
          "data": {
            "text/plain": [
              "<PIL.Image.Image image mode=L size=6x6>"
            ],
            "image/png": "[encoded data removed]"
          },
          "metadata": {}
        },
        {
          "output_type": "stream",
          "name": "stdout",
          "text": [
            "40 40.0\n",
            "20 20.0\n"
          ]
        },
        {
          "output_type": "display_data",
          "data": {
            "text/plain": [
              "<PIL.Image.Image image mode=L size=6x6>"
            ],
            "image/png": "[encoded data removed]"
          },
          "metadata": {}
        },
        {
          "output_type": "stream",
          "name": "stdout",
          "text": [
            "40 40.0\n",
            "20 20.0\n"
          ]
        },
        {
          "output_type": "display_data",
          "data": {
            "text/plain": [
              "<PIL.Image.Image image mode=L size=6x6>"
            ],
            "image/png": "[encoded data removed]"
          },
          "metadata": {}
        },
        {
          "output_type": "stream",
          "name": "stdout",
          "text": [
            "40 40.0\n",
            "20 20.0\n"
          ]
        },
        {
          "output_type": "display_data",
          "data": {
            "text/plain": [
              "<PIL.Image.Image image mode=L size=6x6>"
            ],
            "image/png": "[encoded data removed]"
          },
          "metadata": {}
        },
        {
          "output_type": "stream",
          "name": "stdout",
          "text": [
            "40 40.0\n",
            "20 20.0\n"
          ]
        },
        {
          "output_type": "display_data",
          "data": {
            "text/plain": [
              "<PIL.Image.Image image mode=L size=6x6>"
            ],
            "image/png": "[encoded data removed]"
          },
          "metadata": {}
        },
        {
          "output_type": "stream",
          "name": "stdout",
          "text": [
            "40 40.0\n",
            "20 20.0\n"
          ]
        },
        {
          "output_type": "display_data",
          "data": {
            "text/plain": [
              "<PIL.Image.Image image mode=L size=6x6>"
            ],
            "image/png": "[encoded data removed]"
          },
          "metadata": {}
        },
        {
          "output_type": "stream",
          "name": "stdout",
          "text": [
            "40 40.0\n",
            "20 20.0\n"
          ]
        },
        {
          "output_type": "display_data",
          "data": {
            "text/plain": [
              "<PIL.Image.Image image mode=L size=6x6>"
            ],
            "image/png": "[encoded data removed]"
          },
          "metadata": {}
        },
        {
          "output_type": "stream",
          "name": "stderr",
          "text": [
            "INFO:werkzeug:127.0.0.1 - - [24/Aug/2024 07:10:05] \"POST / HTTP/1.1\" 200 -\n"
          ]
        },
        {
          "output_type": "stream",
          "name": "stdout",
          "text": [
            "40 40.0\n",
            "[['empty', 'empty', 'empty', 'empty', 'empty', 'empty', 'empty', 'empty', 'empty'], 'data:image/png;base64,iVBORw0KGgoAAAANSUhEUgAAABIAAAASCAAAAABzpdGLAAAALUlEQVQYGV3BsQEAAACCIP3/aNsD4xnPeMYznvGMZzzjGc94xjOe8YxnPOMZb6EcEgEWkwzLAAAAAElFTkSuQmCC']\n"
          ]
        },
        {
          "output_type": "display_data",
          "data": {
            "text/plain": [
              "<PIL.Image.Image image mode=L size=300x150>"
            ],
            "image/png": "[encoded data removed]"
          },
          "metadata": {}
        },
        {
          "output_type": "display_data",
          "data": {
            "text/plain": [
              "<PIL.Image.Image image mode=L size=300x150>"
            ],
            "image/png": "[encoded data removed]"
          },
          "metadata": {}
        },
        {
          "output_type": "display_data",
          "data": {
            "text/plain": [
              "<PIL.Image.Image image mode=L size=69x69>"
            ],
            "image/png": "[encoded data removed]"
          },
          "metadata": {}
        },
        {
          "output_type": "stream",
          "name": "stdout",
          "text": [
            "20 20.0\n"
          ]
        },
        {
          "output_type": "display_data",
          "data": {
            "text/plain": [
              "<PIL.Image.Image image mode=L size=23x23>"
            ],
            "image/png": "[encoded data removed]"
          },
          "metadata": {}
        },
        {
          "output_type": "stream",
          "name": "stdout",
          "text": [
            "40 40.0\n",
            "20 20.0\n"
          ]
        },
        {
          "output_type": "display_data",
          "data": {
            "text/plain": [
              "<PIL.Image.Image image mode=L size=23x23>"
            ],
            "image/png": "[encoded data removed]"
          },
          "metadata": {}
        },
        {
          "output_type": "stream",
          "name": "stdout",
          "text": [
            "40 40.0\n",
            "20 20.0\n"
          ]
        },
        {
          "output_type": "display_data",
          "data": {
            "text/plain": [
              "<PIL.Image.Image image mode=L size=23x23>"
            ],
            "image/png": "[encoded data removed]"
          },
          "metadata": {}
        },
        {
          "output_type": "stream",
          "name": "stdout",
          "text": [
            "40 40.0\n",
            "20 20.0\n"
          ]
        },
        {
          "output_type": "display_data",
          "data": {
            "text/plain": [
              "<PIL.Image.Image image mode=L size=23x23>"
            ],
            "image/png": "[encoded data removed]"
          },
          "metadata": {}
        },
        {
          "output_type": "stream",
          "name": "stdout",
          "text": [
            "40 40.0\n",
            "20 20.0\n"
          ]
        },
        {
          "output_type": "display_data",
          "data": {
            "text/plain": [
              "<PIL.Image.Image image mode=L size=23x23>"
            ],
            "image/png": "[encoded data removed]"
          },
          "metadata": {}
        },
        {
          "output_type": "stream",
          "name": "stdout",
          "text": [
            "40 40.0\n",
            "20 20.0\n"
          ]
        },
        {
          "output_type": "display_data",
          "data": {
            "text/plain": [
              "<PIL.Image.Image image mode=L size=23x23>"
            ],
            "image/png": "[encoded data removed]"
          },
          "metadata": {}
        },
        {
          "output_type": "stream",
          "name": "stdout",
          "text": [
            "40 40.0\n",
            "20 20.0\n"
          ]
        },
        {
          "output_type": "display_data",
          "data": {
            "text/plain": [
              "<PIL.Image.Image image mode=L size=23x23>"
            ],
            "image/png": "[encoded data removed]"
          },
          "metadata": {}
        },
        {
          "output_type": "stream",
          "name": "stdout",
          "text": [
            "40 40.0\n",
            "20 20.0\n"
          ]
        },
        {
          "output_type": "display_data",
          "data": {
            "text/plain": [
              "<PIL.Image.Image image mode=L size=23x23>"
            ],
            "image/png": "[encoded data removed]"
          },
          "metadata": {}
        },
        {
          "output_type": "stream",
          "name": "stdout",
          "text": [
            "40 40.0\n",
            "20 20.0\n"
          ]
        },
        {
          "output_type": "display_data",
          "data": {
            "text/plain": [
              "<PIL.Image.Image image mode=L size=23x23>"
            ],
            "image/png": "[encoded data removed]"
          },
          "metadata": {}
        },
        {
          "output_type": "stream",
          "name": "stderr",
          "text": [
            "INFO:werkzeug:127.0.0.1 - - [24/Aug/2024 07:10:06] \"POST / HTTP/1.1\" 200 -\n"
          ]
        },
        {
          "output_type": "stream",
          "name": "stdout",
          "text": [
            "40 40.0\n",
            "[['empty', 'empty', 'empty', 'empty', 'empty', 'empty', 'empty', 'empty', 'empty'], 'data:image/png;base64,iVBORw0KGgoAAAANSUhEUgAAAEUAAABFCAAAAAA55nT1AAAAjklEQVRYCa3BAQEAAACCIP0/2k4ExoFxYBwYB8aBcWAcGAfGgXFgHBgHxoFxYBwYB8aBcWAcGAfGgXFgHBgHxoFxYBwYB8aBcWAcGAfGgXFgHBgHxoFxYBwYB8aBcWAcGAfGgXFgHBgHxoFxYBwYB8aBcWAcGAfGgXFgHBgHxoFxYBwYB8aBcWAcGAfGwQBOz0UB2q2X4gAAAABJRU5ErkJggg==']\n"
          ]
        }
      ],
      "source": [
        "import os\n",
        "import threading\n",
        "import getpass\n",
        "from flask import Flask, request, jsonify\n",
        "from pyngrok import ngrok, conf\n",
        "from flask_cors import CORS\n",
        "\n",
        "conf.get_default().auth_token = \"2kuJ2SpmZEZyRLbmwj8eCHrqeG2_n3z6FFgyHWMx2Eufe4Lf\"\n",
        "\n",
        "app = Flask(__name__)\n",
        "CORS(app)\n",
        "port = \"4000\"\n",
        "\n",
        "# Open a ngrok tunnel to the HTTP server\n",
        "public_url = ngrok.connect(port).public_url\n",
        "\n",
        "# Update any base URLs to use the public ngrok URL\n",
        "app.config[\"BASE_URL\"] = public_url\n",
        "print(public_url)\n",
        "\n",
        "# ... Update inbound traffic via APIs to use the public-facing ngrok URL\n",
        "\n",
        "\n",
        "# Define Flask routes\n",
        "@app.route(\"/\", methods=[\"POST\"])\n",
        "def index():\n",
        "    data = request.json\n",
        "    base64_string = data.get(\"base64\")\n",
        "\n",
        "    if not base64_string:\n",
        "        return jsonify({\"error\": \"No base64 image data provided\"}), 400\n",
        "\n",
        "    try:\n",
        "        image = readb64(base64_string)\n",
        "    except Exception as e:\n",
        "        return jsonify({\"error\": f\"Image could not be read: {str(e)}\"}), 400\n",
        "\n",
        "    try:\n",
        "        result = img(image)\n",
        "    except Exception as e:\n",
        "        result = f\"error: {str(e)}\"\n",
        "\n",
        "    print(result)\n",
        "    return jsonify({\"result\": result})\n",
        "\n",
        "# Start the Flask server in a new thread\n",
        "threading.Thread(target=app.run(port = port), kwargs={\"use_reloader\": False}).start()\n"
      ]
    },
    {
      "cell_type": "code",
      "execution_count": 3,
      "metadata": {
        "id": "DWWp1pTK8Wdl"
      },
      "outputs": [],
      "source": [
        "import base64\n",
        "\n",
        "def readb64(uri):\n",
        "  encoded_data = uri.split(',')[1]\n",
        "  nparr = np.fromstring(base64.b64decode(encoded_data),np.uint8)\n",
        "  img = cv2.imdecode(nparr, cv2.IMREAD_COLOR)\n",
        "  return img\n"
      ]
    },
    {
      "cell_type": "code",
      "execution_count": 4,
      "metadata": {
        "colab": {
          "base_uri": "https://localhost:8080/"
        },
        "id": "uH7UYi7O_sfE",
        "outputId": "9abb41ce-8330-41d0-fd09-f77d82ddb28f"
      },
      "outputs": [
        {
          "output_type": "stream",
          "name": "stdout",
          "text": [
            "Collecting pyngrok\n",
            "  Downloading pyngrok-7.2.0-py3-none-any.whl.metadata (7.4 kB)\n",
            "Requirement already satisfied: PyYAML>=5.1 in /usr/local/lib/python3.10/dist-packages (from pyngrok) (6.0.2)\n",
            "Downloading pyngrok-7.2.0-py3-none-any.whl (22 kB)\n",
            "Installing collected packages: pyngrok\n",
            "Successfully installed pyngrok-7.2.0\n",
            "Authtoken saved to configuration file: /root/.config/ngrok/ngrok.yml\n"
          ]
        }
      ],
      "source": [
        "!pip install pyngrok\n",
        "!ngrok authtoken '2kuJ2SpmZEZyRLbmwj8eCHrqeG2_n3z6FFgyHWMx2Eufe4Lf'"
      ]
    },
    {
      "cell_type": "code",
      "source": [
        "#teachable machine code"
      ],
      "metadata": {
        "id": "-B5LimHSfDRH"
      },
      "execution_count": null,
      "outputs": []
    },
    {
      "cell_type": "code",
      "source": [
        "from keras.models import load_model  # TensorFlow is required for Keras to work\n",
        "from PIL import Image, ImageOps  # Install pillow instead of PIL\n",
        "import numpy as np\n",
        "\n",
        "# Disable scientific notation for clarity\n",
        "np.set_printoptions(suppress=True)\n",
        "\n",
        "# Load the model\n",
        "model = load_model(\"keras_model.h5\", compile=False)\n",
        "\n",
        "# Load the labels\n",
        "class_names = open(\"labels.txt\", \"r\").readlines()\n",
        "\n",
        "# Create the array of the right shape to feed into the keras model\n",
        "# The 'length' or number of images you can put into the array is\n",
        "# determined by the first position in the shape tuple, in this case 1\n",
        "data = np.ndarray(shape=(1, 224, 224, 3), dtype=np.float32)\n",
        "\n",
        "# Replace this with the path to your image\n",
        "def ai(image):\n",
        "\n",
        "\n",
        "  # resizing the image to be at least 224x224 and then cropping from the center\n",
        "  size = (224, 224)\n",
        "  image = ImageOps.fit(image, size, Image.Resampling.LANCZOS)\n",
        "\n",
        "  # turn the image into a numpy array\n",
        "  image_array = np.asarray(image)\n",
        "\n",
        "  # Normalize the image\n",
        "  normalized_image_array = (image_array.astype(np.float32) / 127.5) - 1\n",
        "\n",
        "  # Load the image into the array\n",
        "  data[0] = normalized_image_array\n",
        "\n",
        "  #Predicts the model\n",
        "  prediction = model.predict(data)\n",
        "  index = np.argmax(prediction)\n",
        "  class_name = class_names[index].strip()\n",
        "  confidence_score = prediction[0][index]\n",
        "  print(f\"Class: {class_name}, Confidence Score: {confidence_score}\")\n",
        "  return class_name\n",
        "\n",
        "# Print prediction and confidence score\n",
        "# print(\"Class:\", class_name[2:], end=\"\")\n",
        "# print(\"Confidence Score:\", confidence_score)\n"
      ],
      "metadata": {
        "id": "ZCzdHpmvfEqU"
      },
      "execution_count": 2,
      "outputs": []
    },
    {
      "cell_type": "code",
      "source": [
        "!pip install tensorflow==2.12.0"
      ],
      "metadata": {
        "colab": {
          "base_uri": "https://localhost:8080/"
        },
        "id": "rNMeTo_3f7rU",
        "outputId": "9741ef46-b8fa-47d9-e058-7669ff17326a"
      },
      "execution_count": 1,
      "outputs": [
        {
          "output_type": "stream",
          "name": "stdout",
          "text": [
            "Requirement already satisfied: tensorflow==2.12.0 in /usr/local/lib/python3.10/dist-packages (2.12.0)\n",
            "Requirement already satisfied: absl-py>=1.0.0 in /usr/local/lib/python3.10/dist-packages (from tensorflow==2.12.0) (1.4.0)\n",
            "Requirement already satisfied: astunparse>=1.6.0 in /usr/local/lib/python3.10/dist-packages (from tensorflow==2.12.0) (1.6.3)\n",
            "Requirement already satisfied: flatbuffers>=2.0 in /usr/local/lib/python3.10/dist-packages (from tensorflow==2.12.0) (24.3.25)\n",
            "Requirement already satisfied: gast<=0.4.0,>=0.2.1 in /usr/local/lib/python3.10/dist-packages (from tensorflow==2.12.0) (0.4.0)\n",
            "Requirement already satisfied: google-pasta>=0.1.1 in /usr/local/lib/python3.10/dist-packages (from tensorflow==2.12.0) (0.2.0)\n",
            "Requirement already satisfied: grpcio<2.0,>=1.24.3 in /usr/local/lib/python3.10/dist-packages (from tensorflow==2.12.0) (1.64.1)\n",
            "Requirement already satisfied: h5py>=2.9.0 in /usr/local/lib/python3.10/dist-packages (from tensorflow==2.12.0) (3.11.0)\n",
            "Requirement already satisfied: jax>=0.3.15 in /usr/local/lib/python3.10/dist-packages (from tensorflow==2.12.0) (0.4.26)\n",
            "Requirement already satisfied: keras<2.13,>=2.12.0 in /usr/local/lib/python3.10/dist-packages (from tensorflow==2.12.0) (2.12.0)\n",
            "Requirement already satisfied: libclang>=13.0.0 in /usr/local/lib/python3.10/dist-packages (from tensorflow==2.12.0) (18.1.1)\n",
            "Requirement already satisfied: numpy<1.24,>=1.22 in /usr/local/lib/python3.10/dist-packages (from tensorflow==2.12.0) (1.23.5)\n",
            "Requirement already satisfied: opt-einsum>=2.3.2 in /usr/local/lib/python3.10/dist-packages (from tensorflow==2.12.0) (3.3.0)\n",
            "Requirement already satisfied: packaging in /usr/local/lib/python3.10/dist-packages (from tensorflow==2.12.0) (24.1)\n",
            "Requirement already satisfied: protobuf!=4.21.0,!=4.21.1,!=4.21.2,!=4.21.3,!=4.21.4,!=4.21.5,<5.0.0dev,>=3.20.3 in /usr/local/lib/python3.10/dist-packages (from tensorflow==2.12.0) (3.20.3)\n",
            "Requirement already satisfied: setuptools in /usr/local/lib/python3.10/dist-packages (from tensorflow==2.12.0) (71.0.4)\n",
            "Requirement already satisfied: six>=1.12.0 in /usr/local/lib/python3.10/dist-packages (from tensorflow==2.12.0) (1.16.0)\n",
            "Requirement already satisfied: tensorboard<2.13,>=2.12 in /usr/local/lib/python3.10/dist-packages (from tensorflow==2.12.0) (2.12.3)\n",
            "Requirement already satisfied: tensorflow-estimator<2.13,>=2.12.0 in /usr/local/lib/python3.10/dist-packages (from tensorflow==2.12.0) (2.12.0)\n",
            "Requirement already satisfied: termcolor>=1.1.0 in /usr/local/lib/python3.10/dist-packages (from tensorflow==2.12.0) (2.4.0)\n",
            "Requirement already satisfied: typing-extensions>=3.6.6 in /usr/local/lib/python3.10/dist-packages (from tensorflow==2.12.0) (4.12.2)\n",
            "Requirement already satisfied: wrapt<1.15,>=1.11.0 in /usr/local/lib/python3.10/dist-packages (from tensorflow==2.12.0) (1.14.1)\n",
            "Requirement already satisfied: tensorflow-io-gcs-filesystem>=0.23.1 in /usr/local/lib/python3.10/dist-packages (from tensorflow==2.12.0) (0.37.1)\n",
            "Requirement already satisfied: wheel<1.0,>=0.23.0 in /usr/local/lib/python3.10/dist-packages (from astunparse>=1.6.0->tensorflow==2.12.0) (0.44.0)\n",
            "Requirement already satisfied: ml-dtypes>=0.2.0 in /usr/local/lib/python3.10/dist-packages (from jax>=0.3.15->tensorflow==2.12.0) (0.4.0)\n",
            "Requirement already satisfied: scipy>=1.9 in /usr/local/lib/python3.10/dist-packages (from jax>=0.3.15->tensorflow==2.12.0) (1.13.1)\n",
            "Requirement already satisfied: google-auth<3,>=1.6.3 in /usr/local/lib/python3.10/dist-packages (from tensorboard<2.13,>=2.12->tensorflow==2.12.0) (2.27.0)\n",
            "Requirement already satisfied: google-auth-oauthlib<1.1,>=0.5 in /usr/local/lib/python3.10/dist-packages (from tensorboard<2.13,>=2.12->tensorflow==2.12.0) (1.0.0)\n",
            "Requirement already satisfied: markdown>=2.6.8 in /usr/local/lib/python3.10/dist-packages (from tensorboard<2.13,>=2.12->tensorflow==2.12.0) (3.7)\n",
            "Requirement already satisfied: requests<3,>=2.21.0 in /usr/local/lib/python3.10/dist-packages (from tensorboard<2.13,>=2.12->tensorflow==2.12.0) (2.32.3)\n",
            "Requirement already satisfied: tensorboard-data-server<0.8.0,>=0.7.0 in /usr/local/lib/python3.10/dist-packages (from tensorboard<2.13,>=2.12->tensorflow==2.12.0) (0.7.2)\n",
            "Requirement already satisfied: werkzeug>=1.0.1 in /usr/local/lib/python3.10/dist-packages (from tensorboard<2.13,>=2.12->tensorflow==2.12.0) (3.0.3)\n",
            "Requirement already satisfied: cachetools<6.0,>=2.0.0 in /usr/local/lib/python3.10/dist-packages (from google-auth<3,>=1.6.3->tensorboard<2.13,>=2.12->tensorflow==2.12.0) (5.5.0)\n",
            "Requirement already satisfied: pyasn1-modules>=0.2.1 in /usr/local/lib/python3.10/dist-packages (from google-auth<3,>=1.6.3->tensorboard<2.13,>=2.12->tensorflow==2.12.0) (0.4.0)\n",
            "Requirement already satisfied: rsa<5,>=3.1.4 in /usr/local/lib/python3.10/dist-packages (from google-auth<3,>=1.6.3->tensorboard<2.13,>=2.12->tensorflow==2.12.0) (4.9)\n",
            "Requirement already satisfied: requests-oauthlib>=0.7.0 in /usr/local/lib/python3.10/dist-packages (from google-auth-oauthlib<1.1,>=0.5->tensorboard<2.13,>=2.12->tensorflow==2.12.0) (1.3.1)\n",
            "Requirement already satisfied: charset-normalizer<4,>=2 in /usr/local/lib/python3.10/dist-packages (from requests<3,>=2.21.0->tensorboard<2.13,>=2.12->tensorflow==2.12.0) (3.3.2)\n",
            "Requirement already satisfied: idna<4,>=2.5 in /usr/local/lib/python3.10/dist-packages (from requests<3,>=2.21.0->tensorboard<2.13,>=2.12->tensorflow==2.12.0) (3.7)\n",
            "Requirement already satisfied: urllib3<3,>=1.21.1 in /usr/local/lib/python3.10/dist-packages (from requests<3,>=2.21.0->tensorboard<2.13,>=2.12->tensorflow==2.12.0) (2.0.7)\n",
            "Requirement already satisfied: certifi>=2017.4.17 in /usr/local/lib/python3.10/dist-packages (from requests<3,>=2.21.0->tensorboard<2.13,>=2.12->tensorflow==2.12.0) (2024.7.4)\n",
            "Requirement already satisfied: MarkupSafe>=2.1.1 in /usr/local/lib/python3.10/dist-packages (from werkzeug>=1.0.1->tensorboard<2.13,>=2.12->tensorflow==2.12.0) (2.1.5)\n",
            "Requirement already satisfied: pyasn1<0.7.0,>=0.4.6 in /usr/local/lib/python3.10/dist-packages (from pyasn1-modules>=0.2.1->google-auth<3,>=1.6.3->tensorboard<2.13,>=2.12->tensorflow==2.12.0) (0.6.0)\n",
            "Requirement already satisfied: oauthlib>=3.0.0 in /usr/local/lib/python3.10/dist-packages (from requests-oauthlib>=0.7.0->google-auth-oauthlib<1.1,>=0.5->tensorboard<2.13,>=2.12->tensorflow==2.12.0) (3.2.2)\n"
          ]
        }
      ]
    }
  ],
  "metadata": {
    "colab": {
      "provenance": []
    },
    "kernelspec": {
      "display_name": "Python 3",
      "name": "python3"
    },
    "language_info": {
      "name": "python"
    }
  },
  "nbformat": 4,
  "nbformat_minor": 0
}